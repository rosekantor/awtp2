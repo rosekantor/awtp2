{
 "cells": [
  {
   "cell_type": "code",
   "execution_count": 89,
   "metadata": {},
   "outputs": [],
   "source": [
    "library(dplyr)\n",
    "library(tidyr)"
   ]
  },
  {
   "cell_type": "code",
   "execution_count": 90,
   "metadata": {},
   "outputs": [],
   "source": [
    "m <- '~/data/awtp2_16S/metadata.tsv'\n",
    "fgl_data <- '~/data/awtp2_16S/19_0708_KNLK_SD_DNA.csv'\n",
    "mwq <- '~/data/awtp2_16S/mwq.csv'"
   ]
  },
  {
   "cell_type": "code",
   "execution_count": 91,
   "metadata": {},
   "outputs": [],
   "source": [
    "#what should it all be called?\n",
    "NTB<- \"90%_conditioned/10%_conventional\" #90/10 blends\n",
    "half<- \"45%_conditioned/55%_conventional\" #45/55 blends\n",
    "dpwf<- \"100%_conditioned\"   #source & merge\n",
    "mwtp_s<-\"100%_conventional\" #source & merge\n",
    "\n",
    "mwtp<- \"100%_conventional_water\" # influent composition\n",
    "all_pure<-\"100%_conditioned_water\"  #influent composition\n",
    "\n",
    "all_conv<- \"100%_conventional\" #location_code\n",
    "dpwf_s<- \"100%_conditioned\" #location_code"
   ]
  },
  {
   "cell_type": "code",
   "execution_count": 92,
   "metadata": {},
   "outputs": [
    {
     "data": {
      "text/html": [
       "<table>\n",
       "<caption>A data.frame: 6 × 23</caption>\n",
       "<thead>\n",
       "\t<tr><th scope=col>id</th><th scope=col>id_full</th><th scope=col>count_raw_reads</th><th scope=col>barcode_forward</th><th scope=col>barcode_reverse</th><th scope=col>plate</th><th scope=col>well</th><th scope=col>metagenomic_sample</th><th scope=col>sample_code_full_and_batch</th><th scope=col>sample_date</th><th scope=col>⋯</th><th scope=col>location_code</th><th scope=col>sample_type</th><th scope=col>sampler_name</th><th scope=col>Ext_batch</th><th scope=col>Extraction_Date</th><th scope=col>Ext_num_unique</th><th scope=col>Microconcentrated.</th><th scope=col>DNA_Ext_conc_ngperuL</th><th scope=col>kit</th><th scope=col>exp_merge</th></tr>\n",
       "\t<tr><th scope=col>&lt;fct&gt;</th><th scope=col>&lt;fct&gt;</th><th scope=col>&lt;int&gt;</th><th scope=col>&lt;fct&gt;</th><th scope=col>&lt;fct&gt;</th><th scope=col>&lt;fct&gt;</th><th scope=col>&lt;fct&gt;</th><th scope=col>&lt;fct&gt;</th><th scope=col>&lt;fct&gt;</th><th scope=col>&lt;date&gt;</th><th scope=col>⋯</th><th scope=col>&lt;chr&gt;</th><th scope=col>&lt;fct&gt;</th><th scope=col>&lt;fct&gt;</th><th scope=col>&lt;fct&gt;</th><th scope=col>&lt;fct&gt;</th><th scope=col>&lt;fct&gt;</th><th scope=col>&lt;fct&gt;</th><th scope=col>&lt;fct&gt;</th><th scope=col>&lt;fct&gt;</th><th scope=col>&lt;chr&gt;</th></tr>\n",
       "</thead>\n",
       "<tbody>\n",
       "\t<tr><td>SD001</td><td>KNLK_SD001</td><td>21320</td><td>TACGAGAC</td><td>GAGCTCAT</td><td>1</td><td>D2</td><td>Y</td><td>EXP_0_field_bulk_9_NA_19          </td><td>2018-04-23</td><td>⋯</td><td>field_blank      </td><td>DEUF   </td><td>Lauren_Kennedy</td><td>19 </td><td>9/8/2018 </td><td>183</td><td>Y</td><td>0.126</td><td>PowerSoil Pro</td><td>Y</td></tr>\n",
       "\t<tr><td>SD002</td><td>KNLK_SD002</td><td>43792</td><td>CTACTATA</td><td>CTCTAGAG</td><td>1</td><td>A3</td><td>Y</td><td>EXP_0_extraction_NA_NA_NA_11      </td><td>NA</td><td>⋯</td><td>negative_control </td><td>NA     </td><td>NA            </td><td>11 </td><td>7/7/2018 </td><td>94 </td><td>Y</td><td>0.226</td><td>PowerSoil Pro</td><td>Y</td></tr>\n",
       "\t<tr><td>SD003</td><td>KNLK_SD003</td><td>52728</td><td>CGTTACTA</td><td>CTCTAGAG</td><td>1</td><td>B3</td><td>Y</td><td>DWDS_F_utility_bulk_9_A_12        </td><td>2018-03-28</td><td>⋯</td><td>100%_conventional</td><td>DEUF   </td><td>Lauren_Kennedy</td><td>12 </td><td>7/9/2018 </td><td>99 </td><td>Y</td><td>0.252</td><td>PowerSoil Pro</td><td>N</td></tr>\n",
       "\t<tr><td>SD004</td><td>KNLK_SD004</td><td>35359</td><td>AGAGTCAC</td><td>CTCTAGAG</td><td>1</td><td>C3</td><td>Y</td><td>SDS_F_5_biofilm_9_NA_8            </td><td>2018-04-09</td><td>⋯</td><td>Loop_5           </td><td>biofilm</td><td>Lauren_Kennedy</td><td>8  </td><td>7/6/2018 </td><td>51 </td><td>Y</td><td>0.302</td><td>PowerSoil Pro</td><td>N</td></tr>\n",
       "\t<tr><td>SD005</td><td>KNLK_SD005</td><td>35380</td><td>TACGAGAC</td><td>CTCTAGAG</td><td>1</td><td>D3</td><td>Y</td><td>DWDS_F_328_bulk_5_A_13            </td><td>2018-04-19</td><td>⋯</td><td>DWDS_328         </td><td>DEUF   </td><td>Lauren_Kennedy</td><td>13 </td><td>8/23/2018</td><td>116</td><td>Y</td><td>0.307</td><td>PowerSoil Pro</td><td>N</td></tr>\n",
       "\t<tr><td>SD006</td><td>KNLK_SD006</td><td>30734</td><td>TACGAGAC</td><td>CATGAGGA</td><td>1</td><td>D5</td><td>Y</td><td>AWTP_2_RO2_biofilm_sep_1_A_RO1_A57</td><td>2018-01-10</td><td>⋯</td><td>RO_BF_separator  </td><td>biofilm</td><td>Rose_Kantor   </td><td>RO1</td><td>9/13/2018</td><td>A57</td><td>Y</td><td>1.17 </td><td>Powersoil Pro</td><td>N</td></tr>\n",
       "</tbody>\n",
       "</table>\n"
      ],
      "text/latex": [
       "A data.frame: 6 × 23\n",
       "\\begin{tabular}{r|lllllllllllllllllllllll}\n",
       " id & id\\_full & count\\_raw\\_reads & barcode\\_forward & barcode\\_reverse & plate & well & metagenomic\\_sample & sample\\_code\\_full\\_and\\_batch & sample\\_date & batch\\_sample\\_date & project\\_type & sample\\_or\\_control & location\\_code & sample\\_type & sampler\\_name & Ext\\_batch & Extraction\\_Date & Ext\\_num\\_unique & Microconcentrated. & DNA\\_Ext\\_conc\\_ngperuL & kit & exp\\_merge\\\\\n",
       " <fct> & <fct> & <int> & <fct> & <fct> & <fct> & <fct> & <fct> & <fct> & <date> & <fct> & <fct> & <fct> & <chr> & <fct> & <fct> & <fct> & <fct> & <fct> & <fct> & <fct> & <fct> & <chr>\\\\\n",
       "\\hline\n",
       "\t SD001 & KNLK\\_SD001 & 21320 & TACGAGAC & GAGCTCAT & 1 & D2 & Y & EXP\\_0\\_field\\_bulk\\_9\\_NA\\_19           & 2018-04-23 & 4/23/2018 & Experimental & control & field\\_blank       & DEUF    & Lauren\\_Kennedy & 19  & 9/8/2018  & 183 & Y & 0.126 & PowerSoil Pro & Y\\\\\n",
       "\t SD002 & KNLK\\_SD002 & 43792 & CTACTATA & CTCTAGAG & 1 & A3 & Y & EXP\\_0\\_extraction\\_NA\\_NA\\_NA\\_11       & NA & NA        & Experimental & control & negative\\_control  & NA      & NA             & 11  & 7/7/2018  & 94  & Y & 0.226 & PowerSoil Pro & Y\\\\\n",
       "\t SD003 & KNLK\\_SD003 & 52728 & CGTTACTA & CTCTAGAG & 1 & B3 & Y & DWDS\\_F\\_utility\\_bulk\\_9\\_A\\_12         & 2018-03-28 & NA        & Pipe\\_Loop    & sample  & 100\\%\\_conventional & DEUF    & Lauren\\_Kennedy & 12  & 7/9/2018  & 99  & Y & 0.252 & PowerSoil Pro & N\\\\\n",
       "\t SD004 & KNLK\\_SD004 & 35359 & AGAGTCAC & CTCTAGAG & 1 & C3 & Y & SDS\\_F\\_5\\_biofilm\\_9\\_NA\\_8             & 2018-04-09 & 4/9/2018  & Pipe\\_Loop    & sample  & Loop\\_5            & biofilm & Lauren\\_Kennedy & 8   & 7/6/2018  & 51  & Y & 0.302 & PowerSoil Pro & N\\\\\n",
       "\t SD005 & KNLK\\_SD005 & 35380 & TACGAGAC & CTCTAGAG & 1 & D3 & Y & DWDS\\_F\\_328\\_bulk\\_5\\_A\\_13             & 2018-04-19 & NA        & Full\\_Scale   & sample  & DWDS\\_328          & DEUF    & Lauren\\_Kennedy & 13  & 8/23/2018 & 116 & Y & 0.307 & PowerSoil Pro & N\\\\\n",
       "\t SD006 & KNLK\\_SD006 & 30734 & TACGAGAC & CATGAGGA & 1 & D5 & Y & AWTP\\_2\\_RO2\\_biofilm\\_sep\\_1\\_A\\_RO1\\_A57 & 2018-01-10 & NA        & DPWF         & sample  & RO\\_BF\\_separator   & biofilm & Rose\\_Kantor    & RO1 & 9/13/2018 & A57 & Y & 1.17  & Powersoil Pro & N\\\\\n",
       "\\end{tabular}\n"
      ],
      "text/markdown": [
       "\n",
       "A data.frame: 6 × 23\n",
       "\n",
       "| id &lt;fct&gt; | id_full &lt;fct&gt; | count_raw_reads &lt;int&gt; | barcode_forward &lt;fct&gt; | barcode_reverse &lt;fct&gt; | plate &lt;fct&gt; | well &lt;fct&gt; | metagenomic_sample &lt;fct&gt; | sample_code_full_and_batch &lt;fct&gt; | sample_date &lt;date&gt; | ⋯ ⋯ | location_code &lt;chr&gt; | sample_type &lt;fct&gt; | sampler_name &lt;fct&gt; | Ext_batch &lt;fct&gt; | Extraction_Date &lt;fct&gt; | Ext_num_unique &lt;fct&gt; | Microconcentrated. &lt;fct&gt; | DNA_Ext_conc_ngperuL &lt;fct&gt; | kit &lt;fct&gt; | exp_merge &lt;chr&gt; |\n",
       "|---|---|---|---|---|---|---|---|---|---|---|---|---|---|---|---|---|---|---|---|---|\n",
       "| SD001 | KNLK_SD001 | 21320 | TACGAGAC | GAGCTCAT | 1 | D2 | Y | EXP_0_field_bulk_9_NA_19           | 2018-04-23 | ⋯ | field_blank       | DEUF    | Lauren_Kennedy | 19  | 9/8/2018  | 183 | Y | 0.126 | PowerSoil Pro | Y |\n",
       "| SD002 | KNLK_SD002 | 43792 | CTACTATA | CTCTAGAG | 1 | A3 | Y | EXP_0_extraction_NA_NA_NA_11       | NA | ⋯ | negative_control  | NA      | NA             | 11  | 7/7/2018  | 94  | Y | 0.226 | PowerSoil Pro | Y |\n",
       "| SD003 | KNLK_SD003 | 52728 | CGTTACTA | CTCTAGAG | 1 | B3 | Y | DWDS_F_utility_bulk_9_A_12         | 2018-03-28 | ⋯ | 100%_conventional | DEUF    | Lauren_Kennedy | 12  | 7/9/2018  | 99  | Y | 0.252 | PowerSoil Pro | N |\n",
       "| SD004 | KNLK_SD004 | 35359 | AGAGTCAC | CTCTAGAG | 1 | C3 | Y | SDS_F_5_biofilm_9_NA_8             | 2018-04-09 | ⋯ | Loop_5            | biofilm | Lauren_Kennedy | 8   | 7/6/2018  | 51  | Y | 0.302 | PowerSoil Pro | N |\n",
       "| SD005 | KNLK_SD005 | 35380 | TACGAGAC | CTCTAGAG | 1 | D3 | Y | DWDS_F_328_bulk_5_A_13             | 2018-04-19 | ⋯ | DWDS_328          | DEUF    | Lauren_Kennedy | 13  | 8/23/2018 | 116 | Y | 0.307 | PowerSoil Pro | N |\n",
       "| SD006 | KNLK_SD006 | 30734 | TACGAGAC | CATGAGGA | 1 | D5 | Y | AWTP_2_RO2_biofilm_sep_1_A_RO1_A57 | 2018-01-10 | ⋯ | RO_BF_separator   | biofilm | Rose_Kantor    | RO1 | 9/13/2018 | A57 | Y | 1.17  | Powersoil Pro | N |\n",
       "\n"
      ],
      "text/plain": [
       "  id    id_full    count_raw_reads barcode_forward barcode_reverse plate well\n",
       "1 SD001 KNLK_SD001 21320           TACGAGAC        GAGCTCAT        1     D2  \n",
       "2 SD002 KNLK_SD002 43792           CTACTATA        CTCTAGAG        1     A3  \n",
       "3 SD003 KNLK_SD003 52728           CGTTACTA        CTCTAGAG        1     B3  \n",
       "4 SD004 KNLK_SD004 35359           AGAGTCAC        CTCTAGAG        1     C3  \n",
       "5 SD005 KNLK_SD005 35380           TACGAGAC        CTCTAGAG        1     D3  \n",
       "6 SD006 KNLK_SD006 30734           TACGAGAC        CATGAGGA        1     D5  \n",
       "  metagenomic_sample sample_code_full_and_batch         sample_date ⋯\n",
       "1 Y                  EXP_0_field_bulk_9_NA_19           2018-04-23  ⋯\n",
       "2 Y                  EXP_0_extraction_NA_NA_NA_11       <NA>        ⋯\n",
       "3 Y                  DWDS_F_utility_bulk_9_A_12         2018-03-28  ⋯\n",
       "4 Y                  SDS_F_5_biofilm_9_NA_8             2018-04-09  ⋯\n",
       "5 Y                  DWDS_F_328_bulk_5_A_13             2018-04-19  ⋯\n",
       "6 Y                  AWTP_2_RO2_biofilm_sep_1_A_RO1_A57 2018-01-10  ⋯\n",
       "  location_code     sample_type sampler_name   Ext_batch Extraction_Date\n",
       "1 field_blank       DEUF        Lauren_Kennedy 19        9/8/2018       \n",
       "2 negative_control  NA          NA             11        7/7/2018       \n",
       "3 100%_conventional DEUF        Lauren_Kennedy 12        7/9/2018       \n",
       "4 Loop_5            biofilm     Lauren_Kennedy 8         7/6/2018       \n",
       "5 DWDS_328          DEUF        Lauren_Kennedy 13        8/23/2018      \n",
       "6 RO_BF_separator   biofilm     Rose_Kantor    RO1       9/13/2018      \n",
       "  Ext_num_unique Microconcentrated. DNA_Ext_conc_ngperuL kit          \n",
       "1 183            Y                  0.126                PowerSoil Pro\n",
       "2 94             Y                  0.226                PowerSoil Pro\n",
       "3 99             Y                  0.252                PowerSoil Pro\n",
       "4 51             Y                  0.302                PowerSoil Pro\n",
       "5 116            Y                  0.307                PowerSoil Pro\n",
       "6 A57            Y                  1.17                 Powersoil Pro\n",
       "  exp_merge\n",
       "1 Y        \n",
       "2 Y        \n",
       "3 N        \n",
       "4 N        \n",
       "5 N        \n",
       "6 N        "
      ]
     },
     "metadata": {},
     "output_type": "display_data"
    }
   ],
   "source": [
    "seq_data=read.table(m, header=TRUE, sep=\"\\t\")\n",
    "seq_data$sample_date <- as.Date(seq_data$sample_date, \"%m/%d/%Y\")\n",
    "seq_data$location_code<- gsub(\"Loop_MWTP_inf\",all_conv,seq_data$location_code)\n",
    "seq_data$location_code<- gsub(\"Loop_DPWF_inf\",dpwf_s,seq_data$location_code)\n",
    "seq_data$location_code<- gsub(\"DWDS_282B\",\"DWDS_282\",seq_data$location_code)\n",
    "seq_data$location_code<- gsub(\"WW_3ary\",\"WW_tertiary\",seq_data$location_code)\n",
    "\n",
    "#label all samples as \"N\" for non-experimental\n",
    "seq_data$exp_merge<-\"N\"\n",
    "#label experimental samples (negative controls and positive controls) as experimental (because these rows won't have water quality data to merge)\n",
    "seq_data[((seq_data$location_code==\"negative_control\")| (seq_data$location_code==\"positive_control\"))|(seq_data$location_code==\"field_blank\"),]$exp_merge<-\"Y\"\n",
    "\n",
    "head(seq_data)"
   ]
  },
  {
   "cell_type": "code",
   "execution_count": 93,
   "metadata": {},
   "outputs": [
    {
     "data": {
      "text/html": [
       "<table>\n",
       "<caption>A data.frame: 6 × 7</caption>\n",
       "<thead>\n",
       "\t<tr><th scope=col>id</th><th scope=col>buffer</th><th scope=col>volume_uL</th><th scope=col>Avg.Size</th><th scope=col>ng.uL</th><th scope=col>nM</th><th scope=col>uL_for_200ng</th></tr>\n",
       "\t<tr><th scope=col>&lt;fct&gt;</th><th scope=col>&lt;fct&gt;</th><th scope=col>&lt;int&gt;</th><th scope=col>&lt;int&gt;</th><th scope=col>&lt;dbl&gt;</th><th scope=col>&lt;dbl&gt;</th><th scope=col>&lt;dbl&gt;</th></tr>\n",
       "</thead>\n",
       "<tbody>\n",
       "\t<tr><td>KNLK_SD185</td><td>18 mM TAE bufer                </td><td>15</td><td>385</td><td> 0.1300</td><td>  0.5556</td><td>359.971202</td></tr>\n",
       "\t<tr><td>KNLK_SD003</td><td>20 mM tris-HCl with 0.1 mM EDTA</td><td>50</td><td>393</td><td>10.0087</td><td> 41.8977</td><td>  4.773532</td></tr>\n",
       "\t<tr><td>KNLK_SD004</td><td>20 mM tris-HCl with 0.1 mM EDTA</td><td>50</td><td>390</td><td> 7.1627</td><td> 30.2149</td><td>  6.619251</td></tr>\n",
       "\t<tr><td>KNLK_SD005</td><td>20 mM tris-HCl with 0.1 mM EDTA</td><td>50</td><td>390</td><td>19.2228</td><td> 81.0844</td><td>  2.466566</td></tr>\n",
       "\t<tr><td>KNLK_SD006</td><td>20 mM tris-HCl with 0.1 mM EDTA</td><td>50</td><td>393</td><td>12.7806</td><td> 53.5584</td><td>  3.734242</td></tr>\n",
       "\t<tr><td>KNLK_SD007</td><td>20 mM tris-HCl with 0.1 mM EDTA</td><td>50</td><td>396</td><td>36.0204</td><td>149.5023</td><td>  1.337772</td></tr>\n",
       "</tbody>\n",
       "</table>\n"
      ],
      "text/latex": [
       "A data.frame: 6 × 7\n",
       "\\begin{tabular}{r|lllllll}\n",
       " id & buffer & volume\\_uL & Avg.Size & ng.uL & nM & uL\\_for\\_200ng\\\\\n",
       " <fct> & <fct> & <int> & <int> & <dbl> & <dbl> & <dbl>\\\\\n",
       "\\hline\n",
       "\t KNLK\\_SD185 & 18 mM TAE bufer                 & 15 & 385 &  0.1300 &   0.5556 & 359.971202\\\\\n",
       "\t KNLK\\_SD003 & 20 mM tris-HCl with 0.1 mM EDTA & 50 & 393 & 10.0087 &  41.8977 &   4.773532\\\\\n",
       "\t KNLK\\_SD004 & 20 mM tris-HCl with 0.1 mM EDTA & 50 & 390 &  7.1627 &  30.2149 &   6.619251\\\\\n",
       "\t KNLK\\_SD005 & 20 mM tris-HCl with 0.1 mM EDTA & 50 & 390 & 19.2228 &  81.0844 &   2.466566\\\\\n",
       "\t KNLK\\_SD006 & 20 mM tris-HCl with 0.1 mM EDTA & 50 & 393 & 12.7806 &  53.5584 &   3.734242\\\\\n",
       "\t KNLK\\_SD007 & 20 mM tris-HCl with 0.1 mM EDTA & 50 & 396 & 36.0204 & 149.5023 &   1.337772\\\\\n",
       "\\end{tabular}\n"
      ],
      "text/markdown": [
       "\n",
       "A data.frame: 6 × 7\n",
       "\n",
       "| id &lt;fct&gt; | buffer &lt;fct&gt; | volume_uL &lt;int&gt; | Avg.Size &lt;int&gt; | ng.uL &lt;dbl&gt; | nM &lt;dbl&gt; | uL_for_200ng &lt;dbl&gt; |\n",
       "|---|---|---|---|---|---|---|\n",
       "| KNLK_SD185 | 18 mM TAE bufer                 | 15 | 385 |  0.1300 |   0.5556 | 359.971202 |\n",
       "| KNLK_SD003 | 20 mM tris-HCl with 0.1 mM EDTA | 50 | 393 | 10.0087 |  41.8977 |   4.773532 |\n",
       "| KNLK_SD004 | 20 mM tris-HCl with 0.1 mM EDTA | 50 | 390 |  7.1627 |  30.2149 |   6.619251 |\n",
       "| KNLK_SD005 | 20 mM tris-HCl with 0.1 mM EDTA | 50 | 390 | 19.2228 |  81.0844 |   2.466566 |\n",
       "| KNLK_SD006 | 20 mM tris-HCl with 0.1 mM EDTA | 50 | 393 | 12.7806 |  53.5584 |   3.734242 |\n",
       "| KNLK_SD007 | 20 mM tris-HCl with 0.1 mM EDTA | 50 | 396 | 36.0204 | 149.5023 |   1.337772 |\n",
       "\n"
      ],
      "text/plain": [
       "  id         buffer                          volume_uL Avg.Size ng.uL  \n",
       "1 KNLK_SD185 18 mM TAE bufer                 15        385       0.1300\n",
       "2 KNLK_SD003 20 mM tris-HCl with 0.1 mM EDTA 50        393      10.0087\n",
       "3 KNLK_SD004 20 mM tris-HCl with 0.1 mM EDTA 50        390       7.1627\n",
       "4 KNLK_SD005 20 mM tris-HCl with 0.1 mM EDTA 50        390      19.2228\n",
       "5 KNLK_SD006 20 mM tris-HCl with 0.1 mM EDTA 50        393      12.7806\n",
       "6 KNLK_SD007 20 mM tris-HCl with 0.1 mM EDTA 50        396      36.0204\n",
       "  nM       uL_for_200ng\n",
       "1   0.5556 359.971202  \n",
       "2  41.8977   4.773532  \n",
       "3  30.2149   6.619251  \n",
       "4  81.0844   2.466566  \n",
       "5  53.5584   3.734242  \n",
       "6 149.5023   1.337772  "
      ]
     },
     "metadata": {},
     "output_type": "display_data"
    }
   ],
   "source": [
    "ext_data <- read.csv(fgl_data, header=TRUE, row.names = NULL)\n",
    "head(ext_data)"
   ]
  },
  {
   "cell_type": "code",
   "execution_count": 94,
   "metadata": {},
   "outputs": [
    {
     "data": {
      "text/html": [
       "<table>\n",
       "<caption>A data.frame: 6 × 17</caption>\n",
       "<thead>\n",
       "\t<tr><th scope=col>free_Cl2_mg.L</th><th scope=col>total_Cl2_mg.L</th><th scope=col>pH</th><th scope=col>temp_C</th><th scope=col>disinfectant</th><th scope=col>sample_date</th><th scope=col>broad_location</th><th scope=col>location_code</th><th scope=col>HPC_avg_MPN_per_100mL</th><th scope=col>experimental_detail</th><th scope=col>percent_CRA</th><th scope=col>SG</th><th scope=col>SGPI</th><th scope=col>intra_ATP_avg_nM</th><th scope=col>total_ATP_avg_nM</th><th scope=col>extra_ATP_avg_nM</th><th scope=col>exp_merge</th></tr>\n",
       "\t<tr><th scope=col>&lt;dbl&gt;</th><th scope=col>&lt;dbl&gt;</th><th scope=col>&lt;dbl&gt;</th><th scope=col>&lt;dbl&gt;</th><th scope=col>&lt;fct&gt;</th><th scope=col>&lt;date&gt;</th><th scope=col>&lt;fct&gt;</th><th scope=col>&lt;chr&gt;</th><th scope=col>&lt;int&gt;</th><th scope=col>&lt;lgl&gt;</th><th scope=col>&lt;dbl&gt;</th><th scope=col>&lt;dbl&gt;</th><th scope=col>&lt;dbl&gt;</th><th scope=col>&lt;dbl&gt;</th><th scope=col>&lt;dbl&gt;</th><th scope=col>&lt;dbl&gt;</th><th scope=col>&lt;chr&gt;</th></tr>\n",
       "</thead>\n",
       "<tbody>\n",
       "\t<tr><td>0.02</td><td>0.07</td><td>8.37</td><td>10.9</td><td>Chloramine</td><td>2018-03-19</td><td>Pipe_Loop</td><td>Loop_2   </td><td>NA</td><td>NA</td><td>NA</td><td> 0.0</td><td>5475.7</td><td>0.0001058645</td><td>1.135176e-03</td><td>0.0009924353</td><td>N</td></tr>\n",
       "\t<tr><td>  NA</td><td>  NA</td><td>  NA</td><td>  NA</td><td>NA        </td><td>2017-09-14</td><td>AWTP_2   </td><td>AOP      </td><td>NA</td><td>NA</td><td>NA</td><td>67.7</td><td>   3.3</td><td>          NA</td><td>4.878450e-05</td><td>          NA</td><td>N</td></tr>\n",
       "\t<tr><td>  NA</td><td>  NA</td><td>  NA</td><td>  NA</td><td>NA        </td><td>2017-11-14</td><td>AWTP_2   </td><td>AOP      </td><td>NA</td><td>NA</td><td>NA</td><td>85.7</td><td>  26.3</td><td>          NA</td><td>8.604244e-05</td><td>          NA</td><td>N</td></tr>\n",
       "\t<tr><td>0.01</td><td>0.05</td><td>8.32</td><td>11.1</td><td>Chloramine</td><td>2018-03-19</td><td>Pipe_Loop</td><td>Loop_1   </td><td>NA</td><td>NA</td><td>NA</td><td>96.0</td><td> 227.7</td><td>0.0009927931</td><td>1.816073e-03</td><td>0.0007063832</td><td>N</td></tr>\n",
       "\t<tr><td>  NA</td><td>  NA</td><td>  NA</td><td>  NA</td><td>NA        </td><td>2017-12-14</td><td>AWTP_2   </td><td>AOP      </td><td>NA</td><td>NA</td><td>NA</td><td>97.5</td><td>   6.6</td><td>          NA</td><td>4.177241e-05</td><td>          NA</td><td>N</td></tr>\n",
       "\t<tr><td>  NA</td><td>  NA</td><td>  NA</td><td>  NA</td><td>NA        </td><td>2017-12-14</td><td>AWTP_2   </td><td>RO_3stage</td><td>NA</td><td>NA</td><td>NA</td><td>97.8</td><td>  69.8</td><td>          NA</td><td>1.756935e-04</td><td>          NA</td><td>N</td></tr>\n",
       "</tbody>\n",
       "</table>\n"
      ],
      "text/latex": [
       "A data.frame: 6 × 17\n",
       "\\begin{tabular}{r|lllllllllllllllll}\n",
       " free\\_Cl2\\_mg.L & total\\_Cl2\\_mg.L & pH & temp\\_C & disinfectant & sample\\_date & broad\\_location & location\\_code & HPC\\_avg\\_MPN\\_per\\_100mL & experimental\\_detail & percent\\_CRA & SG & SGPI & intra\\_ATP\\_avg\\_nM & total\\_ATP\\_avg\\_nM & extra\\_ATP\\_avg\\_nM & exp\\_merge\\\\\n",
       " <dbl> & <dbl> & <dbl> & <dbl> & <fct> & <date> & <fct> & <chr> & <int> & <lgl> & <dbl> & <dbl> & <dbl> & <dbl> & <dbl> & <dbl> & <chr>\\\\\n",
       "\\hline\n",
       "\t 0.02 & 0.07 & 8.37 & 10.9 & Chloramine & 2018-03-19 & Pipe\\_Loop & Loop\\_2    & NA & NA & NA &  0.0 & 5475.7 & 0.0001058645 & 1.135176e-03 & 0.0009924353 & N\\\\\n",
       "\t   NA &   NA &   NA &   NA & NA         & 2017-09-14 & AWTP\\_2    & AOP       & NA & NA & NA & 67.7 &    3.3 &           NA & 4.878450e-05 &           NA & N\\\\\n",
       "\t   NA &   NA &   NA &   NA & NA         & 2017-11-14 & AWTP\\_2    & AOP       & NA & NA & NA & 85.7 &   26.3 &           NA & 8.604244e-05 &           NA & N\\\\\n",
       "\t 0.01 & 0.05 & 8.32 & 11.1 & Chloramine & 2018-03-19 & Pipe\\_Loop & Loop\\_1    & NA & NA & NA & 96.0 &  227.7 & 0.0009927931 & 1.816073e-03 & 0.0007063832 & N\\\\\n",
       "\t   NA &   NA &   NA &   NA & NA         & 2017-12-14 & AWTP\\_2    & AOP       & NA & NA & NA & 97.5 &    6.6 &           NA & 4.177241e-05 &           NA & N\\\\\n",
       "\t   NA &   NA &   NA &   NA & NA         & 2017-12-14 & AWTP\\_2    & RO\\_3stage & NA & NA & NA & 97.8 &   69.8 &           NA & 1.756935e-04 &           NA & N\\\\\n",
       "\\end{tabular}\n"
      ],
      "text/markdown": [
       "\n",
       "A data.frame: 6 × 17\n",
       "\n",
       "| free_Cl2_mg.L &lt;dbl&gt; | total_Cl2_mg.L &lt;dbl&gt; | pH &lt;dbl&gt; | temp_C &lt;dbl&gt; | disinfectant &lt;fct&gt; | sample_date &lt;date&gt; | broad_location &lt;fct&gt; | location_code &lt;chr&gt; | HPC_avg_MPN_per_100mL &lt;int&gt; | experimental_detail &lt;lgl&gt; | percent_CRA &lt;dbl&gt; | SG &lt;dbl&gt; | SGPI &lt;dbl&gt; | intra_ATP_avg_nM &lt;dbl&gt; | total_ATP_avg_nM &lt;dbl&gt; | extra_ATP_avg_nM &lt;dbl&gt; | exp_merge &lt;chr&gt; |\n",
       "|---|---|---|---|---|---|---|---|---|---|---|---|---|---|---|---|---|\n",
       "| 0.02 | 0.07 | 8.37 | 10.9 | Chloramine | 2018-03-19 | Pipe_Loop | Loop_2    | NA | NA | NA |  0.0 | 5475.7 | 0.0001058645 | 1.135176e-03 | 0.0009924353 | N |\n",
       "|   NA |   NA |   NA |   NA | NA         | 2017-09-14 | AWTP_2    | AOP       | NA | NA | NA | 67.7 |    3.3 |           NA | 4.878450e-05 |           NA | N |\n",
       "|   NA |   NA |   NA |   NA | NA         | 2017-11-14 | AWTP_2    | AOP       | NA | NA | NA | 85.7 |   26.3 |           NA | 8.604244e-05 |           NA | N |\n",
       "| 0.01 | 0.05 | 8.32 | 11.1 | Chloramine | 2018-03-19 | Pipe_Loop | Loop_1    | NA | NA | NA | 96.0 |  227.7 | 0.0009927931 | 1.816073e-03 | 0.0007063832 | N |\n",
       "|   NA |   NA |   NA |   NA | NA         | 2017-12-14 | AWTP_2    | AOP       | NA | NA | NA | 97.5 |    6.6 |           NA | 4.177241e-05 |           NA | N |\n",
       "|   NA |   NA |   NA |   NA | NA         | 2017-12-14 | AWTP_2    | RO_3stage | NA | NA | NA | 97.8 |   69.8 |           NA | 1.756935e-04 |           NA | N |\n",
       "\n"
      ],
      "text/plain": [
       "  free_Cl2_mg.L total_Cl2_mg.L pH   temp_C disinfectant sample_date\n",
       "1 0.02          0.07           8.37 10.9   Chloramine   2018-03-19 \n",
       "2   NA            NA             NA   NA   NA           2017-09-14 \n",
       "3   NA            NA             NA   NA   NA           2017-11-14 \n",
       "4 0.01          0.05           8.32 11.1   Chloramine   2018-03-19 \n",
       "5   NA            NA             NA   NA   NA           2017-12-14 \n",
       "6   NA            NA             NA   NA   NA           2017-12-14 \n",
       "  broad_location location_code HPC_avg_MPN_per_100mL experimental_detail\n",
       "1 Pipe_Loop      Loop_2        NA                    NA                 \n",
       "2 AWTP_2         AOP           NA                    NA                 \n",
       "3 AWTP_2         AOP           NA                    NA                 \n",
       "4 Pipe_Loop      Loop_1        NA                    NA                 \n",
       "5 AWTP_2         AOP           NA                    NA                 \n",
       "6 AWTP_2         RO_3stage     NA                    NA                 \n",
       "  percent_CRA SG   SGPI   intra_ATP_avg_nM total_ATP_avg_nM extra_ATP_avg_nM\n",
       "1 NA           0.0 5475.7 0.0001058645     1.135176e-03     0.0009924353    \n",
       "2 NA          67.7    3.3           NA     4.878450e-05               NA    \n",
       "3 NA          85.7   26.3           NA     8.604244e-05               NA    \n",
       "4 NA          96.0  227.7 0.0009927931     1.816073e-03     0.0007063832    \n",
       "5 NA          97.5    6.6           NA     4.177241e-05               NA    \n",
       "6 NA          97.8   69.8           NA     1.756935e-04               NA    \n",
       "  exp_merge\n",
       "1 N        \n",
       "2 N        \n",
       "3 N        \n",
       "4 N        \n",
       "5 N        \n",
       "6 N        "
      ]
     },
     "metadata": {},
     "output_type": "display_data"
    }
   ],
   "source": [
    "wq_data <- read.csv(mwq, header=TRUE, row.names = NULL)\n",
    "wq_data <- select(wq_data, select=-X)\n",
    "wq_data$sample_date <- as.Date(wq_data$sample_date, \"%Y-%m-%d\")\n",
    "wq_data$location_code <- as.character(wq_data$location_code)\n",
    "wq_data$location_code<- gsub(\"WW_Tertiary\",\"WW_tertiary\",wq_data$location_code)\n",
    "wq_data$location_code<- gsub(\"MWTP_inf\",all_conv,wq_data$location_code)\n",
    "wq_data$location_code<- gsub(\"DPWF_inf\",dpwf_s,wq_data$location_code)\n",
    "wq_data<-subset(wq_data, select=-c(project_type, merge_id))\n",
    "wq_data=subset(wq_data, is.na(wq_data$experimental_detail))\n",
    "wq_data$exp_merge<-\"N\" #sample date and location code shared by some samples so making it easier to merge seq_data\n",
    "\n",
    "head(wq_data)"
   ]
  },
  {
   "cell_type": "code",
   "execution_count": 95,
   "metadata": {},
   "outputs": [
    {
     "name": "stderr",
     "output_type": "stream",
     "text": [
      "Joining, by = c(\"sample_date\", \"location_code\", \"exp_merge\")\n"
     ]
    },
    {
     "data": {
      "text/html": [
       "<table>\n",
       "<caption>A data.frame: 6 × 43</caption>\n",
       "<thead>\n",
       "\t<tr><th scope=col>id_full</th><th scope=col>id</th><th scope=col>count_raw_reads</th><th scope=col>barcode_forward</th><th scope=col>barcode_reverse</th><th scope=col>plate</th><th scope=col>well</th><th scope=col>metagenomic_sample</th><th scope=col>sample_code_full_and_batch</th><th scope=col>sample_date</th><th scope=col>⋯</th><th scope=col>disinfectant</th><th scope=col>broad_location</th><th scope=col>HPC_avg_MPN_per_100mL</th><th scope=col>experimental_detail</th><th scope=col>percent_CRA</th><th scope=col>SG</th><th scope=col>SGPI</th><th scope=col>intra_ATP_avg_nM</th><th scope=col>total_ATP_avg_nM</th><th scope=col>extra_ATP_avg_nM</th></tr>\n",
       "\t<tr><th scope=col>&lt;fct&gt;</th><th scope=col>&lt;fct&gt;</th><th scope=col>&lt;int&gt;</th><th scope=col>&lt;fct&gt;</th><th scope=col>&lt;fct&gt;</th><th scope=col>&lt;fct&gt;</th><th scope=col>&lt;fct&gt;</th><th scope=col>&lt;fct&gt;</th><th scope=col>&lt;fct&gt;</th><th scope=col>&lt;date&gt;</th><th scope=col>⋯</th><th scope=col>&lt;fct&gt;</th><th scope=col>&lt;fct&gt;</th><th scope=col>&lt;int&gt;</th><th scope=col>&lt;lgl&gt;</th><th scope=col>&lt;dbl&gt;</th><th scope=col>&lt;dbl&gt;</th><th scope=col>&lt;dbl&gt;</th><th scope=col>&lt;dbl&gt;</th><th scope=col>&lt;dbl&gt;</th><th scope=col>&lt;dbl&gt;</th></tr>\n",
       "</thead>\n",
       "<tbody>\n",
       "\t<tr><td>KNLK_SD003</td><td>SD003</td><td>52728</td><td>CGTTACTA</td><td>CTCTAGAG</td><td>1</td><td>B3</td><td>Y</td><td>DWDS_F_utility_bulk_9_A_12        </td><td>2018-03-28</td><td>⋯</td><td>Chloramine</td><td>DWDS_F   </td><td>26</td><td>NA</td><td>0.4626015</td><td>26076.8</td><td> 471.2</td><td>          NA</td><td>         NA</td><td>          NA</td></tr>\n",
       "\t<tr><td>KNLK_SD004</td><td>SD004</td><td>35359</td><td>AGAGTCAC</td><td>CTCTAGAG</td><td>1</td><td>C3</td><td>Y</td><td>SDS_F_5_biofilm_9_NA_8            </td><td>2018-04-09</td><td>⋯</td><td>Chloramine</td><td>Pipe_Loop</td><td>NA</td><td>NA</td><td>       NA</td><td> 5999.9</td><td>1786.3</td><td>7.156732e-05</td><td>0.001976834</td><td>0.0018942843</td></tr>\n",
       "\t<tr><td>KNLK_SD005</td><td>SD005</td><td>35380</td><td>TACGAGAC</td><td>CTCTAGAG</td><td>1</td><td>D3</td><td>Y</td><td>DWDS_F_328_bulk_5_A_13            </td><td>2018-04-19</td><td>⋯</td><td>Chloramine</td><td>DWDS_F   </td><td>17</td><td>NA</td><td>0.6899480</td><td> 1946.3</td><td> 768.3</td><td>1.629695e-01</td><td>0.163264704</td><td>0.0002094437</td></tr>\n",
       "\t<tr><td>KNLK_SD006</td><td>SD006</td><td>30734</td><td>TACGAGAC</td><td>CATGAGGA</td><td>1</td><td>D5</td><td>Y</td><td>AWTP_2_RO2_biofilm_sep_1_A_RO1_A57</td><td>2018-01-10</td><td>⋯</td><td>NA        </td><td>NA       </td><td>NA</td><td>NA</td><td>       NA</td><td>     NA</td><td>    NA</td><td>          NA</td><td>         NA</td><td>          NA</td></tr>\n",
       "\t<tr><td>KNLK_SD007</td><td>SD007</td><td>35135</td><td>CTACTATA</td><td>AGTCTAGA</td><td>1</td><td>A6</td><td>Y</td><td>AWTP_3_MF_tank_bulk_1_A_18        </td><td>2018-03-13</td><td>⋯</td><td>NA        </td><td>NA       </td><td>NA</td><td>NA</td><td>       NA</td><td>     NA</td><td>    NA</td><td>          NA</td><td>         NA</td><td>          NA</td></tr>\n",
       "\t<tr><td>KNLK_SD008</td><td>SD008</td><td>16805</td><td>CGTTACTA</td><td>AGTCTAGA</td><td>1</td><td>B6</td><td>Y</td><td>DWDS_F_328_bulk_1_A_12            </td><td>2018-02-14</td><td>⋯</td><td>Chloramine</td><td>DWDS_F   </td><td> 6</td><td>NA</td><td>0.2500000</td><td>12870.7</td><td>4390.4</td><td>5.347541e-04</td><td>0.001805507</td><td>0.0012105474</td></tr>\n",
       "</tbody>\n",
       "</table>\n"
      ],
      "text/latex": [
       "A data.frame: 6 × 43\n",
       "\\begin{tabular}{r|lllllllllllllllllllllllllllllllllllllllllll}\n",
       " id\\_full & id & count\\_raw\\_reads & barcode\\_forward & barcode\\_reverse & plate & well & metagenomic\\_sample & sample\\_code\\_full\\_and\\_batch & sample\\_date & batch\\_sample\\_date & project\\_type & sample\\_or\\_control & location\\_code & sample\\_type & sampler\\_name & Ext\\_batch & Extraction\\_Date & Ext\\_num\\_unique & Microconcentrated. & DNA\\_Ext\\_conc\\_ngperuL & kit & exp\\_merge & buffer & volume\\_uL & Avg.Size & ng.uL & nM & uL\\_for\\_200ng & free\\_Cl2\\_mg.L & total\\_Cl2\\_mg.L & pH & temp\\_C & disinfectant & broad\\_location & HPC\\_avg\\_MPN\\_per\\_100mL & experimental\\_detail & percent\\_CRA & SG & SGPI & intra\\_ATP\\_avg\\_nM & total\\_ATP\\_avg\\_nM & extra\\_ATP\\_avg\\_nM\\\\\n",
       " <fct> & <fct> & <int> & <fct> & <fct> & <fct> & <fct> & <fct> & <fct> & <date> & <fct> & <fct> & <fct> & <chr> & <fct> & <fct> & <fct> & <fct> & <fct> & <fct> & <fct> & <fct> & <chr> & <fct> & <int> & <int> & <dbl> & <dbl> & <dbl> & <dbl> & <dbl> & <dbl> & <dbl> & <fct> & <fct> & <int> & <lgl> & <dbl> & <dbl> & <dbl> & <dbl> & <dbl> & <dbl>\\\\\n",
       "\\hline\n",
       "\t KNLK\\_SD003 & SD003 & 52728 & CGTTACTA & CTCTAGAG & 1 & B3 & Y & DWDS\\_F\\_utility\\_bulk\\_9\\_A\\_12         & 2018-03-28 & NA       & Pipe\\_Loop  & sample & 100\\%\\_conventional & DEUF    & Lauren\\_Kennedy & 12  & 7/9/2018  & 99  & Y & 0.252 & PowerSoil Pro & N & 20 mM tris-HCl with 0.1 mM EDTA & 50 & 393 & 10.0087 &  41.8977 & 4.773532 & 0.05000000 & 2.18 & 8.14 & 16.8 & Chloramine & DWDS\\_F    & 26 & NA & 0.4626015 & 26076.8 &  471.2 &           NA &          NA &           NA\\\\\n",
       "\t KNLK\\_SD004 & SD004 & 35359 & AGAGTCAC & CTCTAGAG & 1 & C3 & Y & SDS\\_F\\_5\\_biofilm\\_9\\_NA\\_8             & 2018-04-09 & 4/9/2018 & Pipe\\_Loop  & sample & Loop\\_5            & biofilm & Lauren\\_Kennedy & 8   & 7/6/2018  & 51  & Y & 0.302 & PowerSoil Pro & N & 20 mM tris-HCl with 0.1 mM EDTA & 50 & 390 &  7.1627 &  30.2149 & 6.619251 &         NA & 0.65 & 8.35 & 15.9 & Chloramine & Pipe\\_Loop & NA & NA &        NA &  5999.9 & 1786.3 & 7.156732e-05 & 0.001976834 & 0.0018942843\\\\\n",
       "\t KNLK\\_SD005 & SD005 & 35380 & TACGAGAC & CTCTAGAG & 1 & D3 & Y & DWDS\\_F\\_328\\_bulk\\_5\\_A\\_13             & 2018-04-19 & NA       & Full\\_Scale & sample & DWDS\\_328          & DEUF    & Lauren\\_Kennedy & 13  & 8/23/2018 & 116 & Y & 0.307 & PowerSoil Pro & N & 20 mM tris-HCl with 0.1 mM EDTA & 50 & 390 & 19.2228 &  81.0844 & 2.466566 & 0.33000000 & 0.48 & 7.90 & 18.7 & Chloramine & DWDS\\_F    & 17 & NA & 0.6899480 &  1946.3 &  768.3 & 1.629695e-01 & 0.163264704 & 0.0002094437\\\\\n",
       "\t KNLK\\_SD006 & SD006 & 30734 & TACGAGAC & CATGAGGA & 1 & D5 & Y & AWTP\\_2\\_RO2\\_biofilm\\_sep\\_1\\_A\\_RO1\\_A57 & 2018-01-10 & NA       & DPWF       & sample & RO\\_BF\\_separator   & biofilm & Rose\\_Kantor    & RO1 & 9/13/2018 & A57 & Y & 1.17  & Powersoil Pro & N & 20 mM tris-HCl with 0.1 mM EDTA & 50 & 393 & 12.7806 &  53.5584 & 3.734242 &         NA &   NA &   NA &   NA & NA         & NA        & NA & NA &        NA &      NA &     NA &           NA &          NA &           NA\\\\\n",
       "\t KNLK\\_SD007 & SD007 & 35135 & CTACTATA & AGTCTAGA & 1 & A6 & Y & AWTP\\_3\\_MF\\_tank\\_bulk\\_1\\_A\\_18         & 2018-03-13 & NA       & ECAWPC     & sample & MF\\_tank           & DEUF    & Lauren\\_Kennedy & 18  & 9/8/2018  & 174 & Y & 1.81  & PowerSoil Pro & N & 20 mM tris-HCl with 0.1 mM EDTA & 50 & 396 & 36.0204 & 149.5023 & 1.337772 &         NA &   NA &   NA &   NA & NA         & NA        & NA & NA &        NA &      NA &     NA &           NA &          NA &           NA\\\\\n",
       "\t KNLK\\_SD008 & SD008 & 16805 & CGTTACTA & AGTCTAGA & 1 & B6 & Y & DWDS\\_F\\_328\\_bulk\\_1\\_A\\_12             & 2018-02-14 & NA       & Full\\_Scale & sample & DWDS\\_328          & DEUF    & Lauren\\_Kennedy & 12  & 7/9/2018  & 103 & Y & 1.87  & PowerSoil Pro & N & 20 mM tris-HCl with 0.1 mM EDTA & 50 & 397 & 37.7257 & 156.5379 & 1.277646 & 0.04333333 & 1.23 & 8.18 & 20.4 & Chloramine & DWDS\\_F    &  6 & NA & 0.2500000 & 12870.7 & 4390.4 & 5.347541e-04 & 0.001805507 & 0.0012105474\\\\\n",
       "\\end{tabular}\n"
      ],
      "text/markdown": [
       "\n",
       "A data.frame: 6 × 43\n",
       "\n",
       "| id_full &lt;fct&gt; | id &lt;fct&gt; | count_raw_reads &lt;int&gt; | barcode_forward &lt;fct&gt; | barcode_reverse &lt;fct&gt; | plate &lt;fct&gt; | well &lt;fct&gt; | metagenomic_sample &lt;fct&gt; | sample_code_full_and_batch &lt;fct&gt; | sample_date &lt;date&gt; | ⋯ ⋯ | disinfectant &lt;fct&gt; | broad_location &lt;fct&gt; | HPC_avg_MPN_per_100mL &lt;int&gt; | experimental_detail &lt;lgl&gt; | percent_CRA &lt;dbl&gt; | SG &lt;dbl&gt; | SGPI &lt;dbl&gt; | intra_ATP_avg_nM &lt;dbl&gt; | total_ATP_avg_nM &lt;dbl&gt; | extra_ATP_avg_nM &lt;dbl&gt; |\n",
       "|---|---|---|---|---|---|---|---|---|---|---|---|---|---|---|---|---|---|---|---|---|\n",
       "| KNLK_SD003 | SD003 | 52728 | CGTTACTA | CTCTAGAG | 1 | B3 | Y | DWDS_F_utility_bulk_9_A_12         | 2018-03-28 | ⋯ | Chloramine | DWDS_F    | 26 | NA | 0.4626015 | 26076.8 |  471.2 |           NA |          NA |           NA |\n",
       "| KNLK_SD004 | SD004 | 35359 | AGAGTCAC | CTCTAGAG | 1 | C3 | Y | SDS_F_5_biofilm_9_NA_8             | 2018-04-09 | ⋯ | Chloramine | Pipe_Loop | NA | NA |        NA |  5999.9 | 1786.3 | 7.156732e-05 | 0.001976834 | 0.0018942843 |\n",
       "| KNLK_SD005 | SD005 | 35380 | TACGAGAC | CTCTAGAG | 1 | D3 | Y | DWDS_F_328_bulk_5_A_13             | 2018-04-19 | ⋯ | Chloramine | DWDS_F    | 17 | NA | 0.6899480 |  1946.3 |  768.3 | 1.629695e-01 | 0.163264704 | 0.0002094437 |\n",
       "| KNLK_SD006 | SD006 | 30734 | TACGAGAC | CATGAGGA | 1 | D5 | Y | AWTP_2_RO2_biofilm_sep_1_A_RO1_A57 | 2018-01-10 | ⋯ | NA         | NA        | NA | NA |        NA |      NA |     NA |           NA |          NA |           NA |\n",
       "| KNLK_SD007 | SD007 | 35135 | CTACTATA | AGTCTAGA | 1 | A6 | Y | AWTP_3_MF_tank_bulk_1_A_18         | 2018-03-13 | ⋯ | NA         | NA        | NA | NA |        NA |      NA |     NA |           NA |          NA |           NA |\n",
       "| KNLK_SD008 | SD008 | 16805 | CGTTACTA | AGTCTAGA | 1 | B6 | Y | DWDS_F_328_bulk_1_A_12             | 2018-02-14 | ⋯ | Chloramine | DWDS_F    |  6 | NA | 0.2500000 | 12870.7 | 4390.4 | 5.347541e-04 | 0.001805507 | 0.0012105474 |\n",
       "\n"
      ],
      "text/plain": [
       "  id_full    id    count_raw_reads barcode_forward barcode_reverse plate well\n",
       "1 KNLK_SD003 SD003 52728           CGTTACTA        CTCTAGAG        1     B3  \n",
       "2 KNLK_SD004 SD004 35359           AGAGTCAC        CTCTAGAG        1     C3  \n",
       "3 KNLK_SD005 SD005 35380           TACGAGAC        CTCTAGAG        1     D3  \n",
       "4 KNLK_SD006 SD006 30734           TACGAGAC        CATGAGGA        1     D5  \n",
       "5 KNLK_SD007 SD007 35135           CTACTATA        AGTCTAGA        1     A6  \n",
       "6 KNLK_SD008 SD008 16805           CGTTACTA        AGTCTAGA        1     B6  \n",
       "  metagenomic_sample sample_code_full_and_batch         sample_date ⋯\n",
       "1 Y                  DWDS_F_utility_bulk_9_A_12         2018-03-28  ⋯\n",
       "2 Y                  SDS_F_5_biofilm_9_NA_8             2018-04-09  ⋯\n",
       "3 Y                  DWDS_F_328_bulk_5_A_13             2018-04-19  ⋯\n",
       "4 Y                  AWTP_2_RO2_biofilm_sep_1_A_RO1_A57 2018-01-10  ⋯\n",
       "5 Y                  AWTP_3_MF_tank_bulk_1_A_18         2018-03-13  ⋯\n",
       "6 Y                  DWDS_F_328_bulk_1_A_12             2018-02-14  ⋯\n",
       "  disinfectant broad_location HPC_avg_MPN_per_100mL experimental_detail\n",
       "1 Chloramine   DWDS_F         26                    NA                 \n",
       "2 Chloramine   Pipe_Loop      NA                    NA                 \n",
       "3 Chloramine   DWDS_F         17                    NA                 \n",
       "4 NA           NA             NA                    NA                 \n",
       "5 NA           NA             NA                    NA                 \n",
       "6 Chloramine   DWDS_F          6                    NA                 \n",
       "  percent_CRA SG      SGPI   intra_ATP_avg_nM total_ATP_avg_nM extra_ATP_avg_nM\n",
       "1 0.4626015   26076.8  471.2           NA              NA                NA    \n",
       "2        NA    5999.9 1786.3 7.156732e-05     0.001976834      0.0018942843    \n",
       "3 0.6899480    1946.3  768.3 1.629695e-01     0.163264704      0.0002094437    \n",
       "4        NA        NA     NA           NA              NA                NA    \n",
       "5        NA        NA     NA           NA              NA                NA    \n",
       "6 0.2500000   12870.7 4390.4 5.347541e-04     0.001805507      0.0012105474    "
      ]
     },
     "metadata": {},
     "output_type": "display_data"
    }
   ],
   "source": [
    "table_data <- merge(seq_data, ext_data, by.x='id_full', by.y='id')\n",
    "table_data <- left_join(table_data,wq_data)\n",
    "head(table_data)"
   ]
  },
  {
   "cell_type": "code",
   "execution_count": 96,
   "metadata": {},
   "outputs": [],
   "source": [
    "rownames(table_data) <- table_data$id_full\n",
    "\n",
    "#make sampledate column a date\n",
    "table_data$sample_date <- as.Date(table_data$sample_date, \"%m/%d/%Y\")\n",
    "table_data$Extraction_Date <- as.Date(table_data$Extraction_Date, \"%m/%d/%Y\")\n",
    "table_data$batch_sample_date <- as.Date(table_data$batch_sample_date, \"%m/%d/%Y\") \n",
    "table_data$SampleID <- row.names(table_data )\n",
    "\n",
    "#make numeric cols numeric\n",
    "table_data$total_Cl2_mg.L<-as.numeric(table_data$total_Cl2_mg.L)\n",
    "table_data$free_Cl2_mg.L<-as.numeric(table_data$free_Cl2_mg.L)\n",
    "table_data$pH<-as.numeric(table_data$pH)\n",
    "table_data$temp_C<-as.numeric(table_data$temp_C)\n",
    "table_data$percent_CRA<-as.numeric(table_data$percent_CRA)\n",
    "table_data$HPC_avg_MPN_per_100mL<-as.numeric(table_data$HPC_avg_MPN_per_100mL)\n",
    "table_data$SG<-as.numeric(table_data$SG)\n",
    "table_data$SGPI<-as.numeric(table_data$SGPI)\n",
    "table_data$total_ATP_avg_nM<-as.numeric(table_data$total_ATP_avg_nM)\n",
    "table_data$intra_ATP_avg_nM<-as.numeric(table_data$intra_ATP_avg_nM)\n",
    "table_data$extra_ATP_avg_nM<-as.numeric(table_data$extra_ATP_avg_nM)\n",
    "\n",
    "#No wq data taken for pipe loops batch end on 10/23 or 2/19"
   ]
  },
  {
   "cell_type": "code",
   "execution_count": 97,
   "metadata": {},
   "outputs": [
    {
     "data": {
      "text/html": [
       "<table>\n",
       "<caption>A data.frame: 6 × 44</caption>\n",
       "<thead>\n",
       "\t<tr><th></th><th scope=col>id_full</th><th scope=col>id</th><th scope=col>count_raw_reads</th><th scope=col>barcode_forward</th><th scope=col>barcode_reverse</th><th scope=col>plate</th><th scope=col>well</th><th scope=col>metagenomic_sample</th><th scope=col>sample_code_full_and_batch</th><th scope=col>sample_date</th><th scope=col>⋯</th><th scope=col>broad_location</th><th scope=col>HPC_avg_MPN_per_100mL</th><th scope=col>experimental_detail</th><th scope=col>percent_CRA</th><th scope=col>SG</th><th scope=col>SGPI</th><th scope=col>intra_ATP_avg_nM</th><th scope=col>total_ATP_avg_nM</th><th scope=col>extra_ATP_avg_nM</th><th scope=col>SampleID</th></tr>\n",
       "\t<tr><th></th><th scope=col>&lt;fct&gt;</th><th scope=col>&lt;fct&gt;</th><th scope=col>&lt;int&gt;</th><th scope=col>&lt;fct&gt;</th><th scope=col>&lt;fct&gt;</th><th scope=col>&lt;fct&gt;</th><th scope=col>&lt;fct&gt;</th><th scope=col>&lt;fct&gt;</th><th scope=col>&lt;fct&gt;</th><th scope=col>&lt;date&gt;</th><th scope=col>⋯</th><th scope=col>&lt;fct&gt;</th><th scope=col>&lt;dbl&gt;</th><th scope=col>&lt;lgl&gt;</th><th scope=col>&lt;dbl&gt;</th><th scope=col>&lt;dbl&gt;</th><th scope=col>&lt;dbl&gt;</th><th scope=col>&lt;dbl&gt;</th><th scope=col>&lt;dbl&gt;</th><th scope=col>&lt;dbl&gt;</th><th scope=col>&lt;chr&gt;</th></tr>\n",
       "</thead>\n",
       "<tbody>\n",
       "\t<tr><th scope=row>KNLK_SD003</th><td>KNLK_SD003</td><td>SD003</td><td>52728</td><td>CGTTACTA</td><td>CTCTAGAG</td><td>1</td><td>B3</td><td>Y</td><td>DWDS_F_utility_bulk_9_A_12        </td><td>2018-03-28</td><td>⋯</td><td>DWDS_F   </td><td>26</td><td>NA</td><td>0.4626015</td><td>26076.8</td><td> 471.2</td><td>          NA</td><td>         NA</td><td>          NA</td><td>KNLK_SD003</td></tr>\n",
       "\t<tr><th scope=row>KNLK_SD004</th><td>KNLK_SD004</td><td>SD004</td><td>35359</td><td>AGAGTCAC</td><td>CTCTAGAG</td><td>1</td><td>C3</td><td>Y</td><td>SDS_F_5_biofilm_9_NA_8            </td><td>2018-04-09</td><td>⋯</td><td>Pipe_Loop</td><td>NA</td><td>NA</td><td>       NA</td><td> 5999.9</td><td>1786.3</td><td>7.156732e-05</td><td>0.001976834</td><td>0.0018942843</td><td>KNLK_SD004</td></tr>\n",
       "\t<tr><th scope=row>KNLK_SD005</th><td>KNLK_SD005</td><td>SD005</td><td>35380</td><td>TACGAGAC</td><td>CTCTAGAG</td><td>1</td><td>D3</td><td>Y</td><td>DWDS_F_328_bulk_5_A_13            </td><td>2018-04-19</td><td>⋯</td><td>DWDS_F   </td><td>17</td><td>NA</td><td>0.6899480</td><td> 1946.3</td><td> 768.3</td><td>1.629695e-01</td><td>0.163264704</td><td>0.0002094437</td><td>KNLK_SD005</td></tr>\n",
       "\t<tr><th scope=row>KNLK_SD006</th><td>KNLK_SD006</td><td>SD006</td><td>30734</td><td>TACGAGAC</td><td>CATGAGGA</td><td>1</td><td>D5</td><td>Y</td><td>AWTP_2_RO2_biofilm_sep_1_A_RO1_A57</td><td>2018-01-10</td><td>⋯</td><td>NA       </td><td>NA</td><td>NA</td><td>       NA</td><td>     NA</td><td>    NA</td><td>          NA</td><td>         NA</td><td>          NA</td><td>KNLK_SD006</td></tr>\n",
       "\t<tr><th scope=row>KNLK_SD007</th><td>KNLK_SD007</td><td>SD007</td><td>35135</td><td>CTACTATA</td><td>AGTCTAGA</td><td>1</td><td>A6</td><td>Y</td><td>AWTP_3_MF_tank_bulk_1_A_18        </td><td>2018-03-13</td><td>⋯</td><td>NA       </td><td>NA</td><td>NA</td><td>       NA</td><td>     NA</td><td>    NA</td><td>          NA</td><td>         NA</td><td>          NA</td><td>KNLK_SD007</td></tr>\n",
       "\t<tr><th scope=row>KNLK_SD008</th><td>KNLK_SD008</td><td>SD008</td><td>16805</td><td>CGTTACTA</td><td>AGTCTAGA</td><td>1</td><td>B6</td><td>Y</td><td>DWDS_F_328_bulk_1_A_12            </td><td>2018-02-14</td><td>⋯</td><td>DWDS_F   </td><td> 6</td><td>NA</td><td>0.2500000</td><td>12870.7</td><td>4390.4</td><td>5.347541e-04</td><td>0.001805507</td><td>0.0012105474</td><td>KNLK_SD008</td></tr>\n",
       "</tbody>\n",
       "</table>\n"
      ],
      "text/latex": [
       "A data.frame: 6 × 44\n",
       "\\begin{tabular}{r|llllllllllllllllllllllllllllllllllllllllllll}\n",
       "  & id\\_full & id & count\\_raw\\_reads & barcode\\_forward & barcode\\_reverse & plate & well & metagenomic\\_sample & sample\\_code\\_full\\_and\\_batch & sample\\_date & batch\\_sample\\_date & project\\_type & sample\\_or\\_control & location\\_code & sample\\_type & sampler\\_name & Ext\\_batch & Extraction\\_Date & Ext\\_num\\_unique & Microconcentrated. & DNA\\_Ext\\_conc\\_ngperuL & kit & exp\\_merge & buffer & volume\\_uL & Avg.Size & ng.uL & nM & uL\\_for\\_200ng & free\\_Cl2\\_mg.L & total\\_Cl2\\_mg.L & pH & temp\\_C & disinfectant & broad\\_location & HPC\\_avg\\_MPN\\_per\\_100mL & experimental\\_detail & percent\\_CRA & SG & SGPI & intra\\_ATP\\_avg\\_nM & total\\_ATP\\_avg\\_nM & extra\\_ATP\\_avg\\_nM & SampleID\\\\\n",
       "  & <fct> & <fct> & <int> & <fct> & <fct> & <fct> & <fct> & <fct> & <fct> & <date> & <date> & <fct> & <fct> & <chr> & <fct> & <fct> & <fct> & <date> & <fct> & <fct> & <fct> & <fct> & <chr> & <fct> & <int> & <int> & <dbl> & <dbl> & <dbl> & <dbl> & <dbl> & <dbl> & <dbl> & <fct> & <fct> & <dbl> & <lgl> & <dbl> & <dbl> & <dbl> & <dbl> & <dbl> & <dbl> & <chr>\\\\\n",
       "\\hline\n",
       "\tKNLK\\_SD003 & KNLK\\_SD003 & SD003 & 52728 & CGTTACTA & CTCTAGAG & 1 & B3 & Y & DWDS\\_F\\_utility\\_bulk\\_9\\_A\\_12         & 2018-03-28 & NA & Pipe\\_Loop  & sample & 100\\%\\_conventional & DEUF    & Lauren\\_Kennedy & 12  & 2018-07-09 & 99  & Y & 0.252 & PowerSoil Pro & N & 20 mM tris-HCl with 0.1 mM EDTA & 50 & 393 & 10.0087 &  41.8977 & 4.773532 & 0.05000000 & 2.18 & 8.14 & 16.8 & Chloramine & DWDS\\_F    & 26 & NA & 0.4626015 & 26076.8 &  471.2 &           NA &          NA &           NA & KNLK\\_SD003\\\\\n",
       "\tKNLK\\_SD004 & KNLK\\_SD004 & SD004 & 35359 & AGAGTCAC & CTCTAGAG & 1 & C3 & Y & SDS\\_F\\_5\\_biofilm\\_9\\_NA\\_8             & 2018-04-09 & 2018-04-09 & Pipe\\_Loop  & sample & Loop\\_5            & biofilm & Lauren\\_Kennedy & 8   & 2018-07-06 & 51  & Y & 0.302 & PowerSoil Pro & N & 20 mM tris-HCl with 0.1 mM EDTA & 50 & 390 &  7.1627 &  30.2149 & 6.619251 &         NA & 0.65 & 8.35 & 15.9 & Chloramine & Pipe\\_Loop & NA & NA &        NA &  5999.9 & 1786.3 & 7.156732e-05 & 0.001976834 & 0.0018942843 & KNLK\\_SD004\\\\\n",
       "\tKNLK\\_SD005 & KNLK\\_SD005 & SD005 & 35380 & TACGAGAC & CTCTAGAG & 1 & D3 & Y & DWDS\\_F\\_328\\_bulk\\_5\\_A\\_13             & 2018-04-19 & NA & Full\\_Scale & sample & DWDS\\_328          & DEUF    & Lauren\\_Kennedy & 13  & 2018-08-23 & 116 & Y & 0.307 & PowerSoil Pro & N & 20 mM tris-HCl with 0.1 mM EDTA & 50 & 390 & 19.2228 &  81.0844 & 2.466566 & 0.33000000 & 0.48 & 7.90 & 18.7 & Chloramine & DWDS\\_F    & 17 & NA & 0.6899480 &  1946.3 &  768.3 & 1.629695e-01 & 0.163264704 & 0.0002094437 & KNLK\\_SD005\\\\\n",
       "\tKNLK\\_SD006 & KNLK\\_SD006 & SD006 & 30734 & TACGAGAC & CATGAGGA & 1 & D5 & Y & AWTP\\_2\\_RO2\\_biofilm\\_sep\\_1\\_A\\_RO1\\_A57 & 2018-01-10 & NA & DPWF       & sample & RO\\_BF\\_separator   & biofilm & Rose\\_Kantor    & RO1 & 2018-09-13 & A57 & Y & 1.17  & Powersoil Pro & N & 20 mM tris-HCl with 0.1 mM EDTA & 50 & 393 & 12.7806 &  53.5584 & 3.734242 &         NA &   NA &   NA &   NA & NA         & NA        & NA & NA &        NA &      NA &     NA &           NA &          NA &           NA & KNLK\\_SD006\\\\\n",
       "\tKNLK\\_SD007 & KNLK\\_SD007 & SD007 & 35135 & CTACTATA & AGTCTAGA & 1 & A6 & Y & AWTP\\_3\\_MF\\_tank\\_bulk\\_1\\_A\\_18         & 2018-03-13 & NA & ECAWPC     & sample & MF\\_tank           & DEUF    & Lauren\\_Kennedy & 18  & 2018-09-08 & 174 & Y & 1.81  & PowerSoil Pro & N & 20 mM tris-HCl with 0.1 mM EDTA & 50 & 396 & 36.0204 & 149.5023 & 1.337772 &         NA &   NA &   NA &   NA & NA         & NA        & NA & NA &        NA &      NA &     NA &           NA &          NA &           NA & KNLK\\_SD007\\\\\n",
       "\tKNLK\\_SD008 & KNLK\\_SD008 & SD008 & 16805 & CGTTACTA & AGTCTAGA & 1 & B6 & Y & DWDS\\_F\\_328\\_bulk\\_1\\_A\\_12             & 2018-02-14 & NA & Full\\_Scale & sample & DWDS\\_328          & DEUF    & Lauren\\_Kennedy & 12  & 2018-07-09 & 103 & Y & 1.87  & PowerSoil Pro & N & 20 mM tris-HCl with 0.1 mM EDTA & 50 & 397 & 37.7257 & 156.5379 & 1.277646 & 0.04333333 & 1.23 & 8.18 & 20.4 & Chloramine & DWDS\\_F    &  6 & NA & 0.2500000 & 12870.7 & 4390.4 & 5.347541e-04 & 0.001805507 & 0.0012105474 & KNLK\\_SD008\\\\\n",
       "\\end{tabular}\n"
      ],
      "text/markdown": [
       "\n",
       "A data.frame: 6 × 44\n",
       "\n",
       "| <!--/--> | id_full &lt;fct&gt; | id &lt;fct&gt; | count_raw_reads &lt;int&gt; | barcode_forward &lt;fct&gt; | barcode_reverse &lt;fct&gt; | plate &lt;fct&gt; | well &lt;fct&gt; | metagenomic_sample &lt;fct&gt; | sample_code_full_and_batch &lt;fct&gt; | sample_date &lt;date&gt; | ⋯ ⋯ | broad_location &lt;fct&gt; | HPC_avg_MPN_per_100mL &lt;dbl&gt; | experimental_detail &lt;lgl&gt; | percent_CRA &lt;dbl&gt; | SG &lt;dbl&gt; | SGPI &lt;dbl&gt; | intra_ATP_avg_nM &lt;dbl&gt; | total_ATP_avg_nM &lt;dbl&gt; | extra_ATP_avg_nM &lt;dbl&gt; | SampleID &lt;chr&gt; |\n",
       "|---|---|---|---|---|---|---|---|---|---|---|---|---|---|---|---|---|---|---|---|---|---|\n",
       "| KNLK_SD003 | KNLK_SD003 | SD003 | 52728 | CGTTACTA | CTCTAGAG | 1 | B3 | Y | DWDS_F_utility_bulk_9_A_12         | 2018-03-28 | ⋯ | DWDS_F    | 26 | NA | 0.4626015 | 26076.8 |  471.2 |           NA |          NA |           NA | KNLK_SD003 |\n",
       "| KNLK_SD004 | KNLK_SD004 | SD004 | 35359 | AGAGTCAC | CTCTAGAG | 1 | C3 | Y | SDS_F_5_biofilm_9_NA_8             | 2018-04-09 | ⋯ | Pipe_Loop | NA | NA |        NA |  5999.9 | 1786.3 | 7.156732e-05 | 0.001976834 | 0.0018942843 | KNLK_SD004 |\n",
       "| KNLK_SD005 | KNLK_SD005 | SD005 | 35380 | TACGAGAC | CTCTAGAG | 1 | D3 | Y | DWDS_F_328_bulk_5_A_13             | 2018-04-19 | ⋯ | DWDS_F    | 17 | NA | 0.6899480 |  1946.3 |  768.3 | 1.629695e-01 | 0.163264704 | 0.0002094437 | KNLK_SD005 |\n",
       "| KNLK_SD006 | KNLK_SD006 | SD006 | 30734 | TACGAGAC | CATGAGGA | 1 | D5 | Y | AWTP_2_RO2_biofilm_sep_1_A_RO1_A57 | 2018-01-10 | ⋯ | NA        | NA | NA |        NA |      NA |     NA |           NA |          NA |           NA | KNLK_SD006 |\n",
       "| KNLK_SD007 | KNLK_SD007 | SD007 | 35135 | CTACTATA | AGTCTAGA | 1 | A6 | Y | AWTP_3_MF_tank_bulk_1_A_18         | 2018-03-13 | ⋯ | NA        | NA | NA |        NA |      NA |     NA |           NA |          NA |           NA | KNLK_SD007 |\n",
       "| KNLK_SD008 | KNLK_SD008 | SD008 | 16805 | CGTTACTA | AGTCTAGA | 1 | B6 | Y | DWDS_F_328_bulk_1_A_12             | 2018-02-14 | ⋯ | DWDS_F    |  6 | NA | 0.2500000 | 12870.7 | 4390.4 | 5.347541e-04 | 0.001805507 | 0.0012105474 | KNLK_SD008 |\n",
       "\n"
      ],
      "text/plain": [
       "           id_full    id    count_raw_reads barcode_forward barcode_reverse\n",
       "KNLK_SD003 KNLK_SD003 SD003 52728           CGTTACTA        CTCTAGAG       \n",
       "KNLK_SD004 KNLK_SD004 SD004 35359           AGAGTCAC        CTCTAGAG       \n",
       "KNLK_SD005 KNLK_SD005 SD005 35380           TACGAGAC        CTCTAGAG       \n",
       "KNLK_SD006 KNLK_SD006 SD006 30734           TACGAGAC        CATGAGGA       \n",
       "KNLK_SD007 KNLK_SD007 SD007 35135           CTACTATA        AGTCTAGA       \n",
       "KNLK_SD008 KNLK_SD008 SD008 16805           CGTTACTA        AGTCTAGA       \n",
       "           plate well metagenomic_sample sample_code_full_and_batch        \n",
       "KNLK_SD003 1     B3   Y                  DWDS_F_utility_bulk_9_A_12        \n",
       "KNLK_SD004 1     C3   Y                  SDS_F_5_biofilm_9_NA_8            \n",
       "KNLK_SD005 1     D3   Y                  DWDS_F_328_bulk_5_A_13            \n",
       "KNLK_SD006 1     D5   Y                  AWTP_2_RO2_biofilm_sep_1_A_RO1_A57\n",
       "KNLK_SD007 1     A6   Y                  AWTP_3_MF_tank_bulk_1_A_18        \n",
       "KNLK_SD008 1     B6   Y                  DWDS_F_328_bulk_1_A_12            \n",
       "           sample_date ⋯ broad_location HPC_avg_MPN_per_100mL\n",
       "KNLK_SD003 2018-03-28  ⋯ DWDS_F         26                   \n",
       "KNLK_SD004 2018-04-09  ⋯ Pipe_Loop      NA                   \n",
       "KNLK_SD005 2018-04-19  ⋯ DWDS_F         17                   \n",
       "KNLK_SD006 2018-01-10  ⋯ NA             NA                   \n",
       "KNLK_SD007 2018-03-13  ⋯ NA             NA                   \n",
       "KNLK_SD008 2018-02-14  ⋯ DWDS_F          6                   \n",
       "           experimental_detail percent_CRA SG      SGPI   intra_ATP_avg_nM\n",
       "KNLK_SD003 NA                  0.4626015   26076.8  471.2           NA    \n",
       "KNLK_SD004 NA                         NA    5999.9 1786.3 7.156732e-05    \n",
       "KNLK_SD005 NA                  0.6899480    1946.3  768.3 1.629695e-01    \n",
       "KNLK_SD006 NA                         NA        NA     NA           NA    \n",
       "KNLK_SD007 NA                         NA        NA     NA           NA    \n",
       "KNLK_SD008 NA                  0.2500000   12870.7 4390.4 5.347541e-04    \n",
       "           total_ATP_avg_nM extra_ATP_avg_nM SampleID  \n",
       "KNLK_SD003          NA                NA     KNLK_SD003\n",
       "KNLK_SD004 0.001976834      0.0018942843     KNLK_SD004\n",
       "KNLK_SD005 0.163264704      0.0002094437     KNLK_SD005\n",
       "KNLK_SD006          NA                NA     KNLK_SD006\n",
       "KNLK_SD007          NA                NA     KNLK_SD007\n",
       "KNLK_SD008 0.001805507      0.0012105474     KNLK_SD008"
      ]
     },
     "metadata": {},
     "output_type": "display_data"
    }
   ],
   "source": [
    "head(table_data)"
   ]
  },
  {
   "cell_type": "code",
   "execution_count": 99,
   "metadata": {},
   "outputs": [
    {
     "data": {
      "text/html": [
       "<table>\n",
       "<caption>A data.frame: 6 × 44</caption>\n",
       "<thead>\n",
       "\t<tr><th></th><th scope=col>id</th><th scope=col>id_full</th><th scope=col>count_raw_reads</th><th scope=col>barcode_forward</th><th scope=col>barcode_reverse</th><th scope=col>plate</th><th scope=col>well</th><th scope=col>metagenomic_sample</th><th scope=col>sample_code_full_and_batch</th><th scope=col>sample_date</th><th scope=col>⋯</th><th scope=col>broad_location</th><th scope=col>HPC_avg_MPN_per_100mL</th><th scope=col>experimental_detail</th><th scope=col>percent_CRA</th><th scope=col>SG</th><th scope=col>SGPI</th><th scope=col>intra_ATP_avg_nM</th><th scope=col>total_ATP_avg_nM</th><th scope=col>extra_ATP_avg_nM</th><th scope=col>SampleID</th></tr>\n",
       "\t<tr><th></th><th scope=col>&lt;fct&gt;</th><th scope=col>&lt;fct&gt;</th><th scope=col>&lt;int&gt;</th><th scope=col>&lt;fct&gt;</th><th scope=col>&lt;fct&gt;</th><th scope=col>&lt;fct&gt;</th><th scope=col>&lt;fct&gt;</th><th scope=col>&lt;fct&gt;</th><th scope=col>&lt;fct&gt;</th><th scope=col>&lt;date&gt;</th><th scope=col>⋯</th><th scope=col>&lt;fct&gt;</th><th scope=col>&lt;dbl&gt;</th><th scope=col>&lt;lgl&gt;</th><th scope=col>&lt;dbl&gt;</th><th scope=col>&lt;dbl&gt;</th><th scope=col>&lt;dbl&gt;</th><th scope=col>&lt;dbl&gt;</th><th scope=col>&lt;dbl&gt;</th><th scope=col>&lt;dbl&gt;</th><th scope=col>&lt;chr&gt;</th></tr>\n",
       "</thead>\n",
       "<tbody>\n",
       "\t<tr><th scope=row>KNLK_SD003</th><td>SD003</td><td>KNLK_SD003</td><td>52728</td><td>CGTTACTA</td><td>CTCTAGAG</td><td>1</td><td>B3</td><td>Y</td><td>DWDS_F_utility_bulk_9_A_12        </td><td>2018-03-28</td><td>⋯</td><td>DWDS_F   </td><td>26</td><td>NA</td><td>0.4626015</td><td>26076.8</td><td> 471.2</td><td>          NA</td><td>         NA</td><td>          NA</td><td>KNLK_SD003</td></tr>\n",
       "\t<tr><th scope=row>KNLK_SD004</th><td>SD004</td><td>KNLK_SD004</td><td>35359</td><td>AGAGTCAC</td><td>CTCTAGAG</td><td>1</td><td>C3</td><td>Y</td><td>SDS_F_5_biofilm_9_NA_8            </td><td>2018-04-09</td><td>⋯</td><td>Pipe_Loop</td><td>NA</td><td>NA</td><td>       NA</td><td> 5999.9</td><td>1786.3</td><td>7.156732e-05</td><td>0.001976834</td><td>0.0018942843</td><td>KNLK_SD004</td></tr>\n",
       "\t<tr><th scope=row>KNLK_SD005</th><td>SD005</td><td>KNLK_SD005</td><td>35380</td><td>TACGAGAC</td><td>CTCTAGAG</td><td>1</td><td>D3</td><td>Y</td><td>DWDS_F_328_bulk_5_A_13            </td><td>2018-04-19</td><td>⋯</td><td>DWDS_F   </td><td>17</td><td>NA</td><td>0.6899480</td><td> 1946.3</td><td> 768.3</td><td>1.629695e-01</td><td>0.163264704</td><td>0.0002094437</td><td>KNLK_SD005</td></tr>\n",
       "\t<tr><th scope=row>KNLK_SD006</th><td>SD006</td><td>KNLK_SD006</td><td>30734</td><td>TACGAGAC</td><td>CATGAGGA</td><td>1</td><td>D5</td><td>Y</td><td>AWTP_2_RO2_biofilm_sep_1_A_RO1_A57</td><td>2018-01-10</td><td>⋯</td><td>NA       </td><td>NA</td><td>NA</td><td>       NA</td><td>     NA</td><td>    NA</td><td>          NA</td><td>         NA</td><td>          NA</td><td>KNLK_SD006</td></tr>\n",
       "\t<tr><th scope=row>KNLK_SD007</th><td>SD007</td><td>KNLK_SD007</td><td>35135</td><td>CTACTATA</td><td>AGTCTAGA</td><td>1</td><td>A6</td><td>Y</td><td>AWTP_3_MF_tank_bulk_1_A_18        </td><td>2018-03-13</td><td>⋯</td><td>NA       </td><td>NA</td><td>NA</td><td>       NA</td><td>     NA</td><td>    NA</td><td>          NA</td><td>         NA</td><td>          NA</td><td>KNLK_SD007</td></tr>\n",
       "\t<tr><th scope=row>KNLK_SD008</th><td>SD008</td><td>KNLK_SD008</td><td>16805</td><td>CGTTACTA</td><td>AGTCTAGA</td><td>1</td><td>B6</td><td>Y</td><td>DWDS_F_328_bulk_1_A_12            </td><td>2018-02-14</td><td>⋯</td><td>DWDS_F   </td><td> 6</td><td>NA</td><td>0.2500000</td><td>12870.7</td><td>4390.4</td><td>5.347541e-04</td><td>0.001805507</td><td>0.0012105474</td><td>KNLK_SD008</td></tr>\n",
       "</tbody>\n",
       "</table>\n"
      ],
      "text/latex": [
       "A data.frame: 6 × 44\n",
       "\\begin{tabular}{r|llllllllllllllllllllllllllllllllllllllllllll}\n",
       "  & id & id\\_full & count\\_raw\\_reads & barcode\\_forward & barcode\\_reverse & plate & well & metagenomic\\_sample & sample\\_code\\_full\\_and\\_batch & sample\\_date & batch\\_sample\\_date & project\\_type & sample\\_or\\_control & location\\_code & sample\\_type & sampler\\_name & Ext\\_batch & Extraction\\_Date & Ext\\_num\\_unique & Microconcentrated. & DNA\\_Ext\\_conc\\_ngperuL & kit & exp\\_merge & buffer & volume\\_uL & Avg.Size & ng.uL & nM & uL\\_for\\_200ng & free\\_Cl2\\_mg.L & total\\_Cl2\\_mg.L & pH & temp\\_C & disinfectant & broad\\_location & HPC\\_avg\\_MPN\\_per\\_100mL & experimental\\_detail & percent\\_CRA & SG & SGPI & intra\\_ATP\\_avg\\_nM & total\\_ATP\\_avg\\_nM & extra\\_ATP\\_avg\\_nM & SampleID\\\\\n",
       "  & <fct> & <fct> & <int> & <fct> & <fct> & <fct> & <fct> & <fct> & <fct> & <date> & <date> & <fct> & <fct> & <chr> & <fct> & <fct> & <fct> & <date> & <fct> & <fct> & <fct> & <fct> & <chr> & <fct> & <int> & <int> & <dbl> & <dbl> & <dbl> & <dbl> & <dbl> & <dbl> & <dbl> & <fct> & <fct> & <dbl> & <lgl> & <dbl> & <dbl> & <dbl> & <dbl> & <dbl> & <dbl> & <chr>\\\\\n",
       "\\hline\n",
       "\tKNLK\\_SD003 & SD003 & KNLK\\_SD003 & 52728 & CGTTACTA & CTCTAGAG & 1 & B3 & Y & DWDS\\_F\\_utility\\_bulk\\_9\\_A\\_12         & 2018-03-28 & NA & Pipe\\_Loop  & sample & 100\\%\\_conventional & DEUF    & Lauren\\_Kennedy & 12  & 2018-07-09 & 99  & Y & 0.252 & PowerSoil Pro & N & 20 mM tris-HCl with 0.1 mM EDTA & 50 & 393 & 10.0087 &  41.8977 & 4.773532 & 0.05000000 & 2.18 & 8.14 & 16.8 & Chloramine & DWDS\\_F    & 26 & NA & 0.4626015 & 26076.8 &  471.2 &           NA &          NA &           NA & KNLK\\_SD003\\\\\n",
       "\tKNLK\\_SD004 & SD004 & KNLK\\_SD004 & 35359 & AGAGTCAC & CTCTAGAG & 1 & C3 & Y & SDS\\_F\\_5\\_biofilm\\_9\\_NA\\_8             & 2018-04-09 & 2018-04-09 & Pipe\\_Loop  & sample & Loop\\_5            & biofilm & Lauren\\_Kennedy & 8   & 2018-07-06 & 51  & Y & 0.302 & PowerSoil Pro & N & 20 mM tris-HCl with 0.1 mM EDTA & 50 & 390 &  7.1627 &  30.2149 & 6.619251 &         NA & 0.65 & 8.35 & 15.9 & Chloramine & Pipe\\_Loop & NA & NA &        NA &  5999.9 & 1786.3 & 7.156732e-05 & 0.001976834 & 0.0018942843 & KNLK\\_SD004\\\\\n",
       "\tKNLK\\_SD005 & SD005 & KNLK\\_SD005 & 35380 & TACGAGAC & CTCTAGAG & 1 & D3 & Y & DWDS\\_F\\_328\\_bulk\\_5\\_A\\_13             & 2018-04-19 & NA & Full\\_Scale & sample & DWDS\\_328          & DEUF    & Lauren\\_Kennedy & 13  & 2018-08-23 & 116 & Y & 0.307 & PowerSoil Pro & N & 20 mM tris-HCl with 0.1 mM EDTA & 50 & 390 & 19.2228 &  81.0844 & 2.466566 & 0.33000000 & 0.48 & 7.90 & 18.7 & Chloramine & DWDS\\_F    & 17 & NA & 0.6899480 &  1946.3 &  768.3 & 1.629695e-01 & 0.163264704 & 0.0002094437 & KNLK\\_SD005\\\\\n",
       "\tKNLK\\_SD006 & SD006 & KNLK\\_SD006 & 30734 & TACGAGAC & CATGAGGA & 1 & D5 & Y & AWTP\\_2\\_RO2\\_biofilm\\_sep\\_1\\_A\\_RO1\\_A57 & 2018-01-10 & NA & DPWF       & sample & RO\\_BF\\_separator   & biofilm & Rose\\_Kantor    & RO1 & 2018-09-13 & A57 & Y & 1.17  & Powersoil Pro & N & 20 mM tris-HCl with 0.1 mM EDTA & 50 & 393 & 12.7806 &  53.5584 & 3.734242 &         NA &   NA &   NA &   NA & NA         & NA        & NA & NA &        NA &      NA &     NA &           NA &          NA &           NA & KNLK\\_SD006\\\\\n",
       "\tKNLK\\_SD007 & SD007 & KNLK\\_SD007 & 35135 & CTACTATA & AGTCTAGA & 1 & A6 & Y & AWTP\\_3\\_MF\\_tank\\_bulk\\_1\\_A\\_18         & 2018-03-13 & NA & ECAWPC     & sample & MF\\_tank           & DEUF    & Lauren\\_Kennedy & 18  & 2018-09-08 & 174 & Y & 1.81  & PowerSoil Pro & N & 20 mM tris-HCl with 0.1 mM EDTA & 50 & 396 & 36.0204 & 149.5023 & 1.337772 &         NA &   NA &   NA &   NA & NA         & NA        & NA & NA &        NA &      NA &     NA &           NA &          NA &           NA & KNLK\\_SD007\\\\\n",
       "\tKNLK\\_SD008 & SD008 & KNLK\\_SD008 & 16805 & CGTTACTA & AGTCTAGA & 1 & B6 & Y & DWDS\\_F\\_328\\_bulk\\_1\\_A\\_12             & 2018-02-14 & NA & Full\\_Scale & sample & DWDS\\_328          & DEUF    & Lauren\\_Kennedy & 12  & 2018-07-09 & 103 & Y & 1.87  & PowerSoil Pro & N & 20 mM tris-HCl with 0.1 mM EDTA & 50 & 397 & 37.7257 & 156.5379 & 1.277646 & 0.04333333 & 1.23 & 8.18 & 20.4 & Chloramine & DWDS\\_F    &  6 & NA & 0.2500000 & 12870.7 & 4390.4 & 5.347541e-04 & 0.001805507 & 0.0012105474 & KNLK\\_SD008\\\\\n",
       "\\end{tabular}\n"
      ],
      "text/markdown": [
       "\n",
       "A data.frame: 6 × 44\n",
       "\n",
       "| <!--/--> | id &lt;fct&gt; | id_full &lt;fct&gt; | count_raw_reads &lt;int&gt; | barcode_forward &lt;fct&gt; | barcode_reverse &lt;fct&gt; | plate &lt;fct&gt; | well &lt;fct&gt; | metagenomic_sample &lt;fct&gt; | sample_code_full_and_batch &lt;fct&gt; | sample_date &lt;date&gt; | ⋯ ⋯ | broad_location &lt;fct&gt; | HPC_avg_MPN_per_100mL &lt;dbl&gt; | experimental_detail &lt;lgl&gt; | percent_CRA &lt;dbl&gt; | SG &lt;dbl&gt; | SGPI &lt;dbl&gt; | intra_ATP_avg_nM &lt;dbl&gt; | total_ATP_avg_nM &lt;dbl&gt; | extra_ATP_avg_nM &lt;dbl&gt; | SampleID &lt;chr&gt; |\n",
       "|---|---|---|---|---|---|---|---|---|---|---|---|---|---|---|---|---|---|---|---|---|---|\n",
       "| KNLK_SD003 | SD003 | KNLK_SD003 | 52728 | CGTTACTA | CTCTAGAG | 1 | B3 | Y | DWDS_F_utility_bulk_9_A_12         | 2018-03-28 | ⋯ | DWDS_F    | 26 | NA | 0.4626015 | 26076.8 |  471.2 |           NA |          NA |           NA | KNLK_SD003 |\n",
       "| KNLK_SD004 | SD004 | KNLK_SD004 | 35359 | AGAGTCAC | CTCTAGAG | 1 | C3 | Y | SDS_F_5_biofilm_9_NA_8             | 2018-04-09 | ⋯ | Pipe_Loop | NA | NA |        NA |  5999.9 | 1786.3 | 7.156732e-05 | 0.001976834 | 0.0018942843 | KNLK_SD004 |\n",
       "| KNLK_SD005 | SD005 | KNLK_SD005 | 35380 | TACGAGAC | CTCTAGAG | 1 | D3 | Y | DWDS_F_328_bulk_5_A_13             | 2018-04-19 | ⋯ | DWDS_F    | 17 | NA | 0.6899480 |  1946.3 |  768.3 | 1.629695e-01 | 0.163264704 | 0.0002094437 | KNLK_SD005 |\n",
       "| KNLK_SD006 | SD006 | KNLK_SD006 | 30734 | TACGAGAC | CATGAGGA | 1 | D5 | Y | AWTP_2_RO2_biofilm_sep_1_A_RO1_A57 | 2018-01-10 | ⋯ | NA        | NA | NA |        NA |      NA |     NA |           NA |          NA |           NA | KNLK_SD006 |\n",
       "| KNLK_SD007 | SD007 | KNLK_SD007 | 35135 | CTACTATA | AGTCTAGA | 1 | A6 | Y | AWTP_3_MF_tank_bulk_1_A_18         | 2018-03-13 | ⋯ | NA        | NA | NA |        NA |      NA |     NA |           NA |          NA |           NA | KNLK_SD007 |\n",
       "| KNLK_SD008 | SD008 | KNLK_SD008 | 16805 | CGTTACTA | AGTCTAGA | 1 | B6 | Y | DWDS_F_328_bulk_1_A_12             | 2018-02-14 | ⋯ | DWDS_F    |  6 | NA | 0.2500000 | 12870.7 | 4390.4 | 5.347541e-04 | 0.001805507 | 0.0012105474 | KNLK_SD008 |\n",
       "\n"
      ],
      "text/plain": [
       "           id    id_full    count_raw_reads barcode_forward barcode_reverse\n",
       "KNLK_SD003 SD003 KNLK_SD003 52728           CGTTACTA        CTCTAGAG       \n",
       "KNLK_SD004 SD004 KNLK_SD004 35359           AGAGTCAC        CTCTAGAG       \n",
       "KNLK_SD005 SD005 KNLK_SD005 35380           TACGAGAC        CTCTAGAG       \n",
       "KNLK_SD006 SD006 KNLK_SD006 30734           TACGAGAC        CATGAGGA       \n",
       "KNLK_SD007 SD007 KNLK_SD007 35135           CTACTATA        AGTCTAGA       \n",
       "KNLK_SD008 SD008 KNLK_SD008 16805           CGTTACTA        AGTCTAGA       \n",
       "           plate well metagenomic_sample sample_code_full_and_batch        \n",
       "KNLK_SD003 1     B3   Y                  DWDS_F_utility_bulk_9_A_12        \n",
       "KNLK_SD004 1     C3   Y                  SDS_F_5_biofilm_9_NA_8            \n",
       "KNLK_SD005 1     D3   Y                  DWDS_F_328_bulk_5_A_13            \n",
       "KNLK_SD006 1     D5   Y                  AWTP_2_RO2_biofilm_sep_1_A_RO1_A57\n",
       "KNLK_SD007 1     A6   Y                  AWTP_3_MF_tank_bulk_1_A_18        \n",
       "KNLK_SD008 1     B6   Y                  DWDS_F_328_bulk_1_A_12            \n",
       "           sample_date ⋯ broad_location HPC_avg_MPN_per_100mL\n",
       "KNLK_SD003 2018-03-28  ⋯ DWDS_F         26                   \n",
       "KNLK_SD004 2018-04-09  ⋯ Pipe_Loop      NA                   \n",
       "KNLK_SD005 2018-04-19  ⋯ DWDS_F         17                   \n",
       "KNLK_SD006 2018-01-10  ⋯ NA             NA                   \n",
       "KNLK_SD007 2018-03-13  ⋯ NA             NA                   \n",
       "KNLK_SD008 2018-02-14  ⋯ DWDS_F          6                   \n",
       "           experimental_detail percent_CRA SG      SGPI   intra_ATP_avg_nM\n",
       "KNLK_SD003 NA                  0.4626015   26076.8  471.2           NA    \n",
       "KNLK_SD004 NA                         NA    5999.9 1786.3 7.156732e-05    \n",
       "KNLK_SD005 NA                  0.6899480    1946.3  768.3 1.629695e-01    \n",
       "KNLK_SD006 NA                         NA        NA     NA           NA    \n",
       "KNLK_SD007 NA                         NA        NA     NA           NA    \n",
       "KNLK_SD008 NA                  0.2500000   12870.7 4390.4 5.347541e-04    \n",
       "           total_ATP_avg_nM extra_ATP_avg_nM SampleID  \n",
       "KNLK_SD003          NA                NA     KNLK_SD003\n",
       "KNLK_SD004 0.001976834      0.0018942843     KNLK_SD004\n",
       "KNLK_SD005 0.163264704      0.0002094437     KNLK_SD005\n",
       "KNLK_SD006          NA                NA     KNLK_SD006\n",
       "KNLK_SD007          NA                NA     KNLK_SD007\n",
       "KNLK_SD008 0.001805507      0.0012105474     KNLK_SD008"
      ]
     },
     "metadata": {},
     "output_type": "display_data"
    }
   ],
   "source": [
    "table_data <- table_data[,c(\"id\",setdiff(names(table_data),\"id\"))]\n",
    "head(table_data)\n",
    "write.table(table_data, '~/data/awtp2_16S/metadata_final.tsv', sep=\"\\t\", quote=FALSE, row.names=FALSE)"
   ]
  }
 ],
 "metadata": {
  "kernelspec": {
   "display_name": "R",
   "language": "R",
   "name": "ir"
  },
  "language_info": {
   "codemirror_mode": "r",
   "file_extension": ".r",
   "mimetype": "text/x-r-source",
   "name": "R",
   "pygments_lexer": "r",
   "version": "3.6.1"
  }
 },
 "nbformat": 4,
 "nbformat_minor": 4
}
