{
 "cells": [
  {
   "cell_type": "code",
   "execution_count": 1,
   "metadata": {},
   "outputs": [],
   "source": [
    "import pandas as pd\n",
    "import numpy as np"
   ]
  },
  {
   "cell_type": "markdown",
   "metadata": {},
   "source": [
    "# Thoughts\n",
    "Can a contig can still be a contaminant even if it is at lower relative coverage in a control than in the sample?"
   ]
  },
  {
   "cell_type": "markdown",
   "metadata": {},
   "source": [
    "# Preprocessing"
   ]
  },
  {
   "cell_type": "code",
   "execution_count": 119,
   "metadata": {},
   "outputs": [],
   "source": [
    "# from sample_name, contigs db, and profile db, generate needed input files\n",
    "# also take as input, a list of controls sample names"
   ]
  },
  {
   "cell_type": "markdown",
   "metadata": {},
   "source": [
    "# Script"
   ]
  },
  {
   "cell_type": "code",
   "execution_count": 2,
   "metadata": {},
   "outputs": [],
   "source": [
    "sample_name = 'AWTP_2_RO2_bulk_3'\n",
    "contig_data_file = '/Users/rosekantor/data/awtp2_metagenomics/decontamination/KNLK_58_contigs_basic_info.txt'\n",
    "cov_means_file = '/Users/rosekantor/data/awtp2_metagenomics/decontamination/KNLK_58_mean_coverage_Q2Q3_contigs.txt'\n",
    "cov_stds_file = '/Users/rosekantor/data/awtp2_metagenomics/decontamination/KNLK_58_std_coverage_contigs.txt'\n",
    "out_file = '/Users/rosekantor/data/awtp2_metagenomics/KNLK_58_contaminants/'"
   ]
  },
  {
   "cell_type": "code",
   "execution_count": 10,
   "metadata": {},
   "outputs": [],
   "source": [
    "def import_table(anvio_file):\n",
    "    # import coverage means table\n",
    "    df = pd.read_csv(anvio_file, sep='\\t')\n",
    "    #df = df.drop(columns = 'contig') #first col is actually the split so remove it since we want contigs (luckily values for all splits in a contig are identical since we specified contig)\n",
    "    df = df.rename(columns = {'contig': 'split', '__parent__' : 'contig', sample_name : 's'}) \n",
    "    #df = df.drop_duplicates() # collapse down to just contig level\n",
    "    df = df.drop(columns = 'contig')\n",
    "    df = df.set_index('split')\n",
    "\n",
    "    return(df)"
   ]
  },
  {
   "cell_type": "code",
   "execution_count": 45,
   "metadata": {},
   "outputs": [],
   "source": [
    "def score_contigs(cov_means, cov_stds):\n",
    "    # calculate relative coverage\n",
    "    cov_means_norm = cov_means.div(cov_means.sum(axis=0), axis=1)\n",
    "    # compare each column to s and make a matrix that is binary control < sample --> noncontam contig\n",
    "    cov_means_norm_lt = cov_means_norm.lt(cov_means_norm.s, axis=0)\n",
    "\n",
    "    # get coefficient of variance (mean-normalized standard deviation of coverage for each contig)\n",
    "    cov_stds_norm = cov_stds / cov_means\n",
    "    cov_stds_norm = cov_stds_norm.replace([np.nan, np.inf], 0)\n",
    "    # compare each column to s and make a matrix that is binary control > sample --> noncontam contig\n",
    "    cov_stds_norm_gt = cov_stds_norm.gt(cov_stds_norm.s, axis=0)\n",
    "\n",
    "    ## Rules\n",
    "    # identify contig x control combinations where:\n",
    "    # iscontam = 'contam': (cov_means_norm_lt==False and cov_stds_norm_gt==False) score=0 or cov_means_norm.s==0\n",
    "    # iscontam = 'real': (cov_means_norm_lt==True and cov_stds_norm_gt==True) score=2 or cov_means_norm.c==0\n",
    "    # iscontam = 'unknown': ((cov_means_norm_lt==False and cov_stds_norm_gt==True) or \n",
    "    #                        (cov_means_norm_lt==True and cov_stds_norm_gt==False)) score=1\n",
    "\n",
    "    ## First look at just combinations of cov_means_norm_lt and cov_stds_norm_gt\n",
    "    # convert boolean to number and then add, so that True&True = 2, True&False = 1, False&False = 0\n",
    "    iscontam = cov_means_norm_lt*1 + cov_stds_norm_gt*1\n",
    "\n",
    "    ## resolve cases of False&True and True&False (both have value of 1)\n",
    "\n",
    "    ## for any contig where (cov_means_norm.s == 0), change iscontam to 0 for all controls\n",
    "    s_no_cov = (cov_means_norm.s == 0) * 1\n",
    "    iscontam = iscontam.subtract(s_no_cov, axis=0) # subtract 1 in cases where sample has no cov.\n",
    "\n",
    "    # for any contig x control where (cov_means_norm.c == 0), change iscontam to 2 for that control\n",
    "    c_no_cov = (cov_means_norm==0 * 1)\n",
    "    iscontam = iscontam.add(c_no_cov) # add 1 in cases where control has no cov.\n",
    "    \n",
    "    iscontam = iscontam.drop(columns = 's')\n",
    "    iscontam = iscontam.add_prefix('score_')\n",
    "    \n",
    "    ## convert score [0,1,2] to ['contam', 'unknown', 'noncontam']\n",
    "    iscontam = iscontam.replace({0: 'contam', 1: 'unknown', 2: 'noncontam'})\n",
    "\n",
    "    return(iscontam)"
   ]
  },
  {
   "cell_type": "code",
   "execution_count": 46,
   "metadata": {},
   "outputs": [],
   "source": [
    "cov_means = import_table(cov_means_file)\n",
    "cov_stds = import_table(cov_stds_file)\n",
    "iscontam = score_contigs(cov_means, cov_stds)"
   ]
  },
  {
   "cell_type": "code",
   "execution_count": 111,
   "metadata": {},
   "outputs": [],
   "source": [
    "# collect only scaffolds that are possible contam by excluding any row that contains all 'noncontam'\n",
    "possible_contams = iscontam[~((iscontam == 'noncontam').all(axis = 'columns'))]\n",
    "possible_contams.to_csv('~/data/awtp2_metagenomics/KNLK_58_contaminants/contam/KNLK_58_contam_scores.txt', sep='\\t')"
   ]
  },
  {
   "cell_type": "code",
   "execution_count": 140,
   "metadata": {},
   "outputs": [
    {
     "data": {
      "text/html": [
       "<div>\n",
       "<style scoped>\n",
       "    .dataframe tbody tr th:only-of-type {\n",
       "        vertical-align: middle;\n",
       "    }\n",
       "\n",
       "    .dataframe tbody tr th {\n",
       "        vertical-align: top;\n",
       "    }\n",
       "\n",
       "    .dataframe thead th {\n",
       "        text-align: right;\n",
       "    }\n",
       "</style>\n",
       "<table border=\"1\" class=\"dataframe\">\n",
       "  <thead>\n",
       "    <tr style=\"text-align: right;\">\n",
       "      <th></th>\n",
       "      <th>split</th>\n",
       "      <th>bin</th>\n",
       "    </tr>\n",
       "  </thead>\n",
       "  <tbody>\n",
       "    <tr>\n",
       "      <td>0</td>\n",
       "      <td>KNLK_58_100189_split_00001</td>\n",
       "      <td>contam</td>\n",
       "    </tr>\n",
       "    <tr>\n",
       "      <td>1</td>\n",
       "      <td>KNLK_58_100346_split_00001</td>\n",
       "      <td>contam</td>\n",
       "    </tr>\n",
       "    <tr>\n",
       "      <td>2</td>\n",
       "      <td>KNLK_58_10037_split_00001</td>\n",
       "      <td>contam</td>\n",
       "    </tr>\n",
       "    <tr>\n",
       "      <td>3</td>\n",
       "      <td>KNLK_58_100456_split_00001</td>\n",
       "      <td>contam</td>\n",
       "    </tr>\n",
       "    <tr>\n",
       "      <td>4</td>\n",
       "      <td>KNLK_58_100490_split_00001</td>\n",
       "      <td>contam</td>\n",
       "    </tr>\n",
       "    <tr>\n",
       "      <td>...</td>\n",
       "      <td>...</td>\n",
       "      <td>...</td>\n",
       "    </tr>\n",
       "    <tr>\n",
       "      <td>1673</td>\n",
       "      <td>KNLK_58_99127_split_00001</td>\n",
       "      <td>contam</td>\n",
       "    </tr>\n",
       "    <tr>\n",
       "      <td>1674</td>\n",
       "      <td>KNLK_58_99127_split_00002</td>\n",
       "      <td>contam</td>\n",
       "    </tr>\n",
       "    <tr>\n",
       "      <td>1675</td>\n",
       "      <td>KNLK_58_99370_split_00001</td>\n",
       "      <td>contam</td>\n",
       "    </tr>\n",
       "    <tr>\n",
       "      <td>1676</td>\n",
       "      <td>KNLK_58_99632_split_00001</td>\n",
       "      <td>contam</td>\n",
       "    </tr>\n",
       "    <tr>\n",
       "      <td>1677</td>\n",
       "      <td>KNLK_58_99656_split_00001</td>\n",
       "      <td>contam</td>\n",
       "    </tr>\n",
       "  </tbody>\n",
       "</table>\n",
       "<p>1678 rows × 2 columns</p>\n",
       "</div>"
      ],
      "text/plain": [
       "                           split     bin\n",
       "0     KNLK_58_100189_split_00001  contam\n",
       "1     KNLK_58_100346_split_00001  contam\n",
       "2      KNLK_58_10037_split_00001  contam\n",
       "3     KNLK_58_100456_split_00001  contam\n",
       "4     KNLK_58_100490_split_00001  contam\n",
       "...                          ...     ...\n",
       "1673   KNLK_58_99127_split_00001  contam\n",
       "1674   KNLK_58_99127_split_00002  contam\n",
       "1675   KNLK_58_99370_split_00001  contam\n",
       "1676   KNLK_58_99632_split_00001  contam\n",
       "1677   KNLK_58_99656_split_00001  contam\n",
       "\n",
       "[1678 rows x 2 columns]"
      ]
     },
     "execution_count": 140,
     "metadata": {},
     "output_type": "execute_result"
    }
   ],
   "source": [
    "collection = pd.DataFrame(possible_contams.index)\n",
    "collection['bin'] = 'contam'\n",
    "collection"
   ]
  },
  {
   "cell_type": "code",
   "execution_count": 123,
   "metadata": {},
   "outputs": [
    {
     "data": {
      "text/html": [
       "<div>\n",
       "<style scoped>\n",
       "    .dataframe tbody tr th:only-of-type {\n",
       "        vertical-align: middle;\n",
       "    }\n",
       "\n",
       "    .dataframe tbody tr th {\n",
       "        vertical-align: top;\n",
       "    }\n",
       "\n",
       "    .dataframe thead th {\n",
       "        text-align: right;\n",
       "    }\n",
       "</style>\n",
       "<table border=\"1\" class=\"dataframe\">\n",
       "  <thead>\n",
       "    <tr style=\"text-align: right;\">\n",
       "      <th></th>\n",
       "      <th>contigs</th>\n",
       "    </tr>\n",
       "  </thead>\n",
       "  <tbody>\n",
       "    <tr>\n",
       "      <td>0</td>\n",
       "      <td>KNLK_58_100346</td>\n",
       "    </tr>\n",
       "    <tr>\n",
       "      <td>1</td>\n",
       "      <td>KNLK_58_100456</td>\n",
       "    </tr>\n",
       "    <tr>\n",
       "      <td>2</td>\n",
       "      <td>KNLK_58_100490</td>\n",
       "    </tr>\n",
       "    <tr>\n",
       "      <td>3</td>\n",
       "      <td>KNLK_58_100836</td>\n",
       "    </tr>\n",
       "    <tr>\n",
       "      <td>4</td>\n",
       "      <td>KNLK_58_100999</td>\n",
       "    </tr>\n",
       "    <tr>\n",
       "      <td>...</td>\n",
       "      <td>...</td>\n",
       "    </tr>\n",
       "    <tr>\n",
       "      <td>1613</td>\n",
       "      <td>KNLK_58_87401</td>\n",
       "    </tr>\n",
       "    <tr>\n",
       "      <td>1614</td>\n",
       "      <td>KNLK_58_90394</td>\n",
       "    </tr>\n",
       "    <tr>\n",
       "      <td>1615</td>\n",
       "      <td>KNLK_58_92561</td>\n",
       "    </tr>\n",
       "    <tr>\n",
       "      <td>1616</td>\n",
       "      <td>KNLK_58_93295</td>\n",
       "    </tr>\n",
       "    <tr>\n",
       "      <td>1617</td>\n",
       "      <td>KNLK_58_9817</td>\n",
       "    </tr>\n",
       "  </tbody>\n",
       "</table>\n",
       "<p>1618 rows × 1 columns</p>\n",
       "</div>"
      ],
      "text/plain": [
       "             contigs\n",
       "0     KNLK_58_100346\n",
       "1     KNLK_58_100456\n",
       "2     KNLK_58_100490\n",
       "3     KNLK_58_100836\n",
       "4     KNLK_58_100999\n",
       "...              ...\n",
       "1613   KNLK_58_87401\n",
       "1614   KNLK_58_90394\n",
       "1615   KNLK_58_92561\n",
       "1616   KNLK_58_93295\n",
       "1617    KNLK_58_9817\n",
       "\n",
       "[1618 rows x 1 columns]"
      ]
     },
     "execution_count": 123,
     "metadata": {},
     "output_type": "execute_result"
    }
   ],
   "source": [
    "# trying to get contig column for testing\n",
    "t = possible_contams.reset_index()\n",
    "t['contig'] = t['split'].str.extract(r'(.+)_split_\\d+')\n",
    "t= t.drop(columns='split')\n",
    "t = t.drop_duplicates()\n",
    "t = t.set_index('contig')\n",
    "\n",
    "iscontamm = t.reset_index().melt(id_vars=['contig'],\n",
    "                          var_name='control',\n",
    "                          value_name='contamination')\n",
    "p = pd.DataFrame(iscontamm[iscontamm.contamination!='noncontam'].contig.unique(), columns=['contigs'])\n",
    "p"
   ]
  },
  {
   "cell_type": "code",
   "execution_count": 180,
   "metadata": {},
   "outputs": [],
   "source": [
    "# questions\n",
    "# what fraction of negative controls is from positive control contam\n",
    "# what should rule be: 1) if any control says the contig is a contam, then it is contam (what about cross-contam of samples into just one control?)\n",
    "#                      2) if any control says contig is noncontam, then it is noncontam (some controls won't have enough info)"
   ]
  },
  {
   "cell_type": "code",
   "execution_count": 120,
   "metadata": {},
   "outputs": [],
   "source": [
    "## import contig table\n",
    "# contig_data = pd.read_csv(contig_data_file, sep='\\t')\n",
    "# contig_data = contig_data.set_index('contig')"
   ]
  },
  {
   "cell_type": "code",
   "execution_count": 212,
   "metadata": {},
   "outputs": [],
   "source": [
    "possible_contams = pd.DataFrame(iscontamm[iscontamm.contamination!=2].contig.unique(), columns=['contigs'])\n",
    "possible_contams['bin']='contam'"
   ]
  },
  {
   "cell_type": "code",
   "execution_count": 213,
   "metadata": {},
   "outputs": [
    {
     "data": {
      "text/html": [
       "<div>\n",
       "<style scoped>\n",
       "    .dataframe tbody tr th:only-of-type {\n",
       "        vertical-align: middle;\n",
       "    }\n",
       "\n",
       "    .dataframe tbody tr th {\n",
       "        vertical-align: top;\n",
       "    }\n",
       "\n",
       "    .dataframe thead th {\n",
       "        text-align: right;\n",
       "    }\n",
       "</style>\n",
       "<table border=\"1\" class=\"dataframe\">\n",
       "  <thead>\n",
       "    <tr style=\"text-align: right;\">\n",
       "      <th></th>\n",
       "      <th>contigs</th>\n",
       "      <th>bin</th>\n",
       "    </tr>\n",
       "  </thead>\n",
       "  <tbody>\n",
       "    <tr>\n",
       "      <td>0</td>\n",
       "      <td>KNLK_23_314861</td>\n",
       "      <td>contam</td>\n",
       "    </tr>\n",
       "    <tr>\n",
       "      <td>1</td>\n",
       "      <td>KNLK_23_63001</td>\n",
       "      <td>contam</td>\n",
       "    </tr>\n",
       "    <tr>\n",
       "      <td>2</td>\n",
       "      <td>KNLK_23_223930</td>\n",
       "      <td>contam</td>\n",
       "    </tr>\n",
       "    <tr>\n",
       "      <td>3</td>\n",
       "      <td>KNLK_23_279903</td>\n",
       "      <td>contam</td>\n",
       "    </tr>\n",
       "    <tr>\n",
       "      <td>4</td>\n",
       "      <td>KNLK_23_237933</td>\n",
       "      <td>contam</td>\n",
       "    </tr>\n",
       "  </tbody>\n",
       "</table>\n",
       "</div>"
      ],
      "text/plain": [
       "          contigs     bin\n",
       "0  KNLK_23_314861  contam\n",
       "1   KNLK_23_63001  contam\n",
       "2  KNLK_23_223930  contam\n",
       "3  KNLK_23_279903  contam\n",
       "4  KNLK_23_237933  contam"
      ]
     },
     "execution_count": 213,
     "metadata": {},
     "output_type": "execute_result"
    }
   ],
   "source": [
    "possible_contams.head()"
   ]
  },
  {
   "cell_type": "code",
   "execution_count": 214,
   "metadata": {},
   "outputs": [],
   "source": [
    "possible_contams.to_csv(out_file, header=False, index=False, sep='\\t')"
   ]
  }
 ],
 "metadata": {
  "kernelspec": {
   "display_name": "Python 3",
   "language": "python",
   "name": "python3"
  },
  "language_info": {
   "codemirror_mode": {
    "name": "ipython",
    "version": 3
   },
   "file_extension": ".py",
   "mimetype": "text/x-python",
   "name": "python",
   "nbconvert_exporter": "python",
   "pygments_lexer": "ipython3",
   "version": "3.7.5"
  }
 },
 "nbformat": 4,
 "nbformat_minor": 4
}
